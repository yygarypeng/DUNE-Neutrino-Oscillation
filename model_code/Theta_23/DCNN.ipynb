{
 "cells": [
  {
   "cell_type": "code",
   "execution_count": 1,
   "id": "bf3a7748",
   "metadata": {
    "_cell_guid": "b1076dfc-b9ad-4769-8c92-a6c4dae69d19",
    "_uuid": "8f2839f25d086af736a60e9eeb907d3b93b6e0e5",
    "execution": {
     "iopub.execute_input": "2023-05-26T04:37:57.997436Z",
     "iopub.status.busy": "2023-05-26T04:37:57.996954Z"
    },
    "papermill": {
     "duration": null,
     "end_time": null,
     "exception": false,
     "start_time": "2023-05-26T04:37:57.992374",
     "status": "running"
    },
    "tags": []
   },
   "outputs": [
    {
     "name": "stderr",
     "output_type": "stream",
     "text": [
      "/opt/conda/lib/python3.10/site-packages/tensorflow_io/python/ops/__init__.py:98: UserWarning: unable to load libtensorflow_io_plugins.so: unable to open file: libtensorflow_io_plugins.so, from paths: ['/opt/conda/lib/python3.10/site-packages/tensorflow_io/python/ops/libtensorflow_io_plugins.so']\n",
      "caused by: ['/opt/conda/lib/python3.10/site-packages/tensorflow_io/python/ops/libtensorflow_io_plugins.so: undefined symbol: _ZN3tsl6StatusC1EN10tensorflow5error4CodeESt17basic_string_viewIcSt11char_traitsIcEENS_14SourceLocationE']\n",
      "  warnings.warn(f\"unable to load libtensorflow_io_plugins.so: {e}\")\n",
      "/opt/conda/lib/python3.10/site-packages/tensorflow_io/python/ops/__init__.py:104: UserWarning: file system plugins are not loaded: unable to open file: libtensorflow_io.so, from paths: ['/opt/conda/lib/python3.10/site-packages/tensorflow_io/python/ops/libtensorflow_io.so']\n",
      "caused by: ['/opt/conda/lib/python3.10/site-packages/tensorflow_io/python/ops/libtensorflow_io.so: undefined symbol: _ZTVN10tensorflow13GcsFileSystemE']\n",
      "  warnings.warn(f\"file system plugins are not loaded: {e}\")\n"
     ]
    },
    {
     "name": "stdout",
     "output_type": "stream",
     "text": [
      "Before normalized, the shape of x_train: (500027, 65, 4)\n",
      "X-train normalized factors (v_max, v_min) = (1919.03, 2.74423)\n"
     ]
    },
    {
     "name": "stdout",
     "output_type": "stream",
     "text": [
      "After normalized, the shape of x_train: (500027, 65, 4)\n",
      "Before normalized, the shape of y_train: (500027,)\n",
      "Y-train normalized factors (v_max, v_min) = (51.1, 38.9)\n",
      "After normalized, the shape of y_train: (500027,)\n"
     ]
    },
    {
     "name": "stdout",
     "output_type": "stream",
     "text": [
      "Model: \"dnn\"\n"
     ]
    },
    {
     "name": "stdout",
     "output_type": "stream",
     "text": [
      "_________________________________________________________________\n"
     ]
    },
    {
     "name": "stdout",
     "output_type": "stream",
     "text": [
      " Layer (type)                Output Shape              Param #   \n"
     ]
    },
    {
     "name": "stdout",
     "output_type": "stream",
     "text": [
      "=================================================================\n"
     ]
    },
    {
     "name": "stdout",
     "output_type": "stream",
     "text": [
      " input_1 (InputLayer)        [(None, 65, 4, 1)]        0         \n"
     ]
    },
    {
     "name": "stdout",
     "output_type": "stream",
     "text": [
      "                                                                 \n"
     ]
    },
    {
     "name": "stdout",
     "output_type": "stream",
     "text": [
      " conv2d (Conv2D)             (None, 65, 4, 64)         1088      \n"
     ]
    },
    {
     "name": "stdout",
     "output_type": "stream",
     "text": [
      "                                                                 \n"
     ]
    },
    {
     "name": "stdout",
     "output_type": "stream",
     "text": [
      " batch_normalization (BatchN  (None, 65, 4, 64)        256       \n"
     ]
    },
    {
     "name": "stdout",
     "output_type": "stream",
     "text": [
      " ormalization)                                                   \n"
     ]
    },
    {
     "name": "stdout",
     "output_type": "stream",
     "text": [
      "                                                                 \n"
     ]
    },
    {
     "name": "stdout",
     "output_type": "stream",
     "text": [
      " leaky_re_lu (LeakyReLU)     (None, 65, 4, 64)         0         \n"
     ]
    },
    {
     "name": "stdout",
     "output_type": "stream",
     "text": [
      "                                                                 \n"
     ]
    },
    {
     "name": "stdout",
     "output_type": "stream",
     "text": [
      " conv2d_1 (Conv2D)           (None, 65, 4, 64)         65600     \n"
     ]
    },
    {
     "name": "stdout",
     "output_type": "stream",
     "text": [
      "                                                                 \n"
     ]
    },
    {
     "name": "stdout",
     "output_type": "stream",
     "text": [
      " batch_normalization_1 (Batc  (None, 65, 4, 64)        256       \n"
     ]
    },
    {
     "name": "stdout",
     "output_type": "stream",
     "text": [
      " hNormalization)                                                 \n"
     ]
    },
    {
     "name": "stdout",
     "output_type": "stream",
     "text": [
      "                                                                 \n"
     ]
    },
    {
     "name": "stdout",
     "output_type": "stream",
     "text": [
      " leaky_re_lu_1 (LeakyReLU)   (None, 65, 4, 64)         0         \n"
     ]
    },
    {
     "name": "stdout",
     "output_type": "stream",
     "text": [
      "                                                                 \n"
     ]
    },
    {
     "name": "stdout",
     "output_type": "stream",
     "text": [
      " average_pooling2d (AverageP  (None, 32, 2, 64)        0         \n"
     ]
    },
    {
     "name": "stdout",
     "output_type": "stream",
     "text": [
      " ooling2D)                                                       \n"
     ]
    },
    {
     "name": "stdout",
     "output_type": "stream",
     "text": [
      "                                                                 \n"
     ]
    },
    {
     "name": "stdout",
     "output_type": "stream",
     "text": [
      " conv2d_2 (Conv2D)           (None, 32, 2, 32)         32800     \n"
     ]
    },
    {
     "name": "stdout",
     "output_type": "stream",
     "text": [
      "                                                                 \n"
     ]
    },
    {
     "name": "stdout",
     "output_type": "stream",
     "text": [
      " batch_normalization_2 (Batc  (None, 32, 2, 32)        128       \n"
     ]
    },
    {
     "name": "stdout",
     "output_type": "stream",
     "text": [
      " hNormalization)                                                 \n"
     ]
    },
    {
     "name": "stdout",
     "output_type": "stream",
     "text": [
      "                                                                 \n"
     ]
    },
    {
     "name": "stdout",
     "output_type": "stream",
     "text": [
      " leaky_re_lu_2 (LeakyReLU)   (None, 32, 2, 32)         0         \n"
     ]
    },
    {
     "name": "stdout",
     "output_type": "stream",
     "text": [
      "                                                                 \n"
     ]
    },
    {
     "name": "stdout",
     "output_type": "stream",
     "text": [
      " conv2d_3 (Conv2D)           (None, 32, 2, 32)         16416     \n"
     ]
    },
    {
     "name": "stdout",
     "output_type": "stream",
     "text": [
      "                                                                 \n"
     ]
    },
    {
     "name": "stdout",
     "output_type": "stream",
     "text": [
      " batch_normalization_3 (Batc  (None, 32, 2, 32)        128       \n"
     ]
    },
    {
     "name": "stdout",
     "output_type": "stream",
     "text": [
      " hNormalization)                                                 \n"
     ]
    },
    {
     "name": "stdout",
     "output_type": "stream",
     "text": [
      "                                                                 \n"
     ]
    },
    {
     "name": "stdout",
     "output_type": "stream",
     "text": [
      " leaky_re_lu_3 (LeakyReLU)   (None, 32, 2, 32)         0         \n"
     ]
    },
    {
     "name": "stdout",
     "output_type": "stream",
     "text": [
      "                                                                 \n"
     ]
    },
    {
     "name": "stdout",
     "output_type": "stream",
     "text": [
      " average_pooling2d_1 (Averag  (None, 16, 1, 32)        0         \n"
     ]
    },
    {
     "name": "stdout",
     "output_type": "stream",
     "text": [
      " ePooling2D)                                                     \n"
     ]
    },
    {
     "name": "stdout",
     "output_type": "stream",
     "text": [
      "                                                                 \n"
     ]
    },
    {
     "name": "stdout",
     "output_type": "stream",
     "text": [
      " flatten (Flatten)           (None, 512)               0         \n"
     ]
    },
    {
     "name": "stdout",
     "output_type": "stream",
     "text": [
      "                                                                 \n"
     ]
    },
    {
     "name": "stdout",
     "output_type": "stream",
     "text": [
      " dense (Dense)               (None, 256)               131328    \n"
     ]
    },
    {
     "name": "stdout",
     "output_type": "stream",
     "text": [
      "                                                                 \n"
     ]
    },
    {
     "name": "stdout",
     "output_type": "stream",
     "text": [
      " dense_1 (Dense)             (None, 64)                16448     \n"
     ]
    },
    {
     "name": "stdout",
     "output_type": "stream",
     "text": [
      "                                                                 \n"
     ]
    },
    {
     "name": "stdout",
     "output_type": "stream",
     "text": [
      " dense_2 (Dense)             (None, 16)                1040      \n"
     ]
    },
    {
     "name": "stdout",
     "output_type": "stream",
     "text": [
      "                                                                 \n"
     ]
    },
    {
     "name": "stdout",
     "output_type": "stream",
     "text": [
      " dense_3 (Dense)             (None, 1)                 17        \n"
     ]
    },
    {
     "name": "stdout",
     "output_type": "stream",
     "text": [
      "                                                                 \n"
     ]
    },
    {
     "name": "stdout",
     "output_type": "stream",
     "text": [
      "=================================================================\n"
     ]
    },
    {
     "name": "stdout",
     "output_type": "stream",
     "text": [
      "Total params: 265,505\n"
     ]
    },
    {
     "name": "stdout",
     "output_type": "stream",
     "text": [
      "Trainable params: 265,121\n"
     ]
    },
    {
     "name": "stdout",
     "output_type": "stream",
     "text": [
      "Non-trainable params: 384\n"
     ]
    },
    {
     "name": "stdout",
     "output_type": "stream",
     "text": [
      "_________________________________________________________________\n"
     ]
    },
    {
     "name": "stdout",
     "output_type": "stream",
     "text": [
      "Epoch 1/256\n"
     ]
    },
    {
     "name": "stdout",
     "output_type": "stream",
     "text": [
      "6251/6251 - 1082s - loss: 0.7611 - val_loss: 0.5876 - 1082s/epoch - 173ms/step\n"
     ]
    },
    {
     "name": "stdout",
     "output_type": "stream",
     "text": [
      "Epoch 2/256\n"
     ]
    },
    {
     "name": "stdout",
     "output_type": "stream",
     "text": [
      "6251/6251 - 1090s - loss: 0.4549 - val_loss: 0.3419 - 1090s/epoch - 174ms/step\n"
     ]
    },
    {
     "name": "stdout",
     "output_type": "stream",
     "text": [
      "Epoch 3/256\n"
     ]
    },
    {
     "name": "stdout",
     "output_type": "stream",
     "text": [
      "6251/6251 - 1096s - loss: 0.2635 - val_loss: 0.1988 - 1096s/epoch - 175ms/step\n"
     ]
    },
    {
     "name": "stdout",
     "output_type": "stream",
     "text": [
      "Epoch 4/256\n"
     ]
    },
    {
     "name": "stdout",
     "output_type": "stream",
     "text": [
      "6251/6251 - 1070s - loss: 0.1544 - val_loss: 0.1173 - 1070s/epoch - 171ms/step\n"
     ]
    },
    {
     "name": "stdout",
     "output_type": "stream",
     "text": [
      "Epoch 5/256\n"
     ]
    },
    {
     "name": "stdout",
     "output_type": "stream",
     "text": [
      "6251/6251 - 1089s - loss: 0.0901 - val_loss: 0.0669 - 1089s/epoch - 174ms/step\n"
     ]
    },
    {
     "name": "stdout",
     "output_type": "stream",
     "text": [
      "Epoch 6/256\n"
     ]
    },
    {
     "name": "stdout",
     "output_type": "stream",
     "text": [
      "6251/6251 - 1093s - loss: 0.0502 - val_loss: 0.0363 - 1093s/epoch - 175ms/step\n"
     ]
    },
    {
     "name": "stdout",
     "output_type": "stream",
     "text": [
      "Epoch 7/256\n"
     ]
    },
    {
     "name": "stdout",
     "output_type": "stream",
     "text": [
      "6251/6251 - 1074s - loss: 0.0268 - val_loss: 0.0192 - 1074s/epoch - 172ms/step\n"
     ]
    },
    {
     "name": "stdout",
     "output_type": "stream",
     "text": [
      "Epoch 8/256\n"
     ]
    },
    {
     "name": "stdout",
     "output_type": "stream",
     "text": [
      "6251/6251 - 1059s - loss: 0.0141 - val_loss: 0.0101 - 1059s/epoch - 169ms/step\n"
     ]
    },
    {
     "name": "stdout",
     "output_type": "stream",
     "text": [
      "Epoch 9/256\n"
     ]
    },
    {
     "name": "stdout",
     "output_type": "stream",
     "text": [
      "6251/6251 - 1132s - loss: 0.0076 - val_loss: 0.0056 - 1132s/epoch - 181ms/step\n"
     ]
    },
    {
     "name": "stdout",
     "output_type": "stream",
     "text": [
      "Epoch 10/256\n"
     ]
    },
    {
     "name": "stdout",
     "output_type": "stream",
     "text": [
      "6251/6251 - 1150s - loss: 0.0044 - val_loss: 0.0035 - 1150s/epoch - 184ms/step\n"
     ]
    },
    {
     "name": "stdout",
     "output_type": "stream",
     "text": [
      "Epoch 11/256\n"
     ]
    },
    {
     "name": "stdout",
     "output_type": "stream",
     "text": [
      "6251/6251 - 1212s - loss: 0.0029 - val_loss: 0.0027 - 1212s/epoch - 194ms/step\n"
     ]
    },
    {
     "name": "stdout",
     "output_type": "stream",
     "text": [
      "Epoch 12/256\n"
     ]
    },
    {
     "name": "stdout",
     "output_type": "stream",
     "text": [
      "6251/6251 - 1132s - loss: 0.0022 - val_loss: 0.0019 - 1132s/epoch - 181ms/step\n"
     ]
    },
    {
     "name": "stdout",
     "output_type": "stream",
     "text": [
      "Epoch 13/256\n"
     ]
    },
    {
     "name": "stdout",
     "output_type": "stream",
     "text": [
      "6251/6251 - 1094s - loss: 0.0018 - val_loss: 0.0017 - 1094s/epoch - 175ms/step\n"
     ]
    },
    {
     "name": "stdout",
     "output_type": "stream",
     "text": [
      "Epoch 14/256\n"
     ]
    },
    {
     "name": "stdout",
     "output_type": "stream",
     "text": [
      "6251/6251 - 1117s - loss: 0.0015 - val_loss: 0.0013 - 1117s/epoch - 179ms/step\n"
     ]
    },
    {
     "name": "stdout",
     "output_type": "stream",
     "text": [
      "Epoch 15/256\n"
     ]
    },
    {
     "name": "stdout",
     "output_type": "stream",
     "text": [
      "6251/6251 - 1093s - loss: 0.0013 - val_loss: 0.0013 - 1093s/epoch - 175ms/step\n"
     ]
    },
    {
     "name": "stdout",
     "output_type": "stream",
     "text": [
      "Epoch 16/256\n"
     ]
    },
    {
     "name": "stdout",
     "output_type": "stream",
     "text": [
      "6251/6251 - 1096s - loss: 0.0012 - val_loss: 0.0011 - 1096s/epoch - 175ms/step\n"
     ]
    },
    {
     "name": "stdout",
     "output_type": "stream",
     "text": [
      "Epoch 17/256\n"
     ]
    },
    {
     "name": "stdout",
     "output_type": "stream",
     "text": [
      "6251/6251 - 1075s - loss: 0.0011 - val_loss: 0.0010 - 1075s/epoch - 172ms/step\n"
     ]
    },
    {
     "name": "stdout",
     "output_type": "stream",
     "text": [
      "Epoch 18/256\n"
     ]
    },
    {
     "name": "stdout",
     "output_type": "stream",
     "text": [
      "6251/6251 - 1104s - loss: 9.8677e-04 - val_loss: 8.6567e-04 - 1104s/epoch - 177ms/step\n"
     ]
    },
    {
     "name": "stdout",
     "output_type": "stream",
     "text": [
      "Epoch 19/256\n"
     ]
    },
    {
     "name": "stdout",
     "output_type": "stream",
     "text": [
      "6251/6251 - 1145s - loss: 9.2128e-04 - val_loss: 9.2994e-04 - 1145s/epoch - 183ms/step\n"
     ]
    },
    {
     "name": "stdout",
     "output_type": "stream",
     "text": [
      "Epoch 20/256\n"
     ]
    },
    {
     "name": "stdout",
     "output_type": "stream",
     "text": [
      "6251/6251 - 1101s - loss: 8.6726e-04 - val_loss: 7.6858e-04 - 1101s/epoch - 176ms/step\n"
     ]
    },
    {
     "name": "stdout",
     "output_type": "stream",
     "text": [
      "Epoch 21/256\n"
     ]
    },
    {
     "name": "stdout",
     "output_type": "stream",
     "text": [
      "6251/6251 - 1100s - loss: 8.2519e-04 - val_loss: 7.6447e-04 - 1100s/epoch - 176ms/step\n"
     ]
    },
    {
     "name": "stdout",
     "output_type": "stream",
     "text": [
      "Epoch 22/256\n"
     ]
    },
    {
     "name": "stdout",
     "output_type": "stream",
     "text": [
      "6251/6251 - 1086s - loss: 7.8836e-04 - val_loss: 7.5724e-04 - 1086s/epoch - 174ms/step\n"
     ]
    },
    {
     "name": "stdout",
     "output_type": "stream",
     "text": [
      "Epoch 23/256\n"
     ]
    },
    {
     "name": "stdout",
     "output_type": "stream",
     "text": [
      "6251/6251 - 1095s - loss: 7.6208e-04 - val_loss: 7.5286e-04 - 1095s/epoch - 175ms/step\n"
     ]
    },
    {
     "name": "stdout",
     "output_type": "stream",
     "text": [
      "Epoch 24/256\n"
     ]
    },
    {
     "name": "stdout",
     "output_type": "stream",
     "text": [
      "6251/6251 - 1088s - loss: 7.3436e-04 - val_loss: 6.7998e-04 - 1088s/epoch - 174ms/step\n"
     ]
    },
    {
     "name": "stdout",
     "output_type": "stream",
     "text": [
      "Epoch 25/256\n"
     ]
    },
    {
     "name": "stdout",
     "output_type": "stream",
     "text": [
      "6251/6251 - 1110s - loss: 7.0997e-04 - val_loss: 7.8089e-04 - 1110s/epoch - 178ms/step\n"
     ]
    },
    {
     "name": "stdout",
     "output_type": "stream",
     "text": [
      "Epoch 26/256\n"
     ]
    },
    {
     "name": "stdout",
     "output_type": "stream",
     "text": [
      "6251/6251 - 1098s - loss: 6.8803e-04 - val_loss: 6.2929e-04 - 1098s/epoch - 176ms/step\n"
     ]
    },
    {
     "name": "stdout",
     "output_type": "stream",
     "text": [
      "Epoch 27/256\n"
     ]
    },
    {
     "name": "stdout",
     "output_type": "stream",
     "text": [
      "6251/6251 - 1123s - loss: 6.6875e-04 - val_loss: 7.6695e-04 - 1123s/epoch - 180ms/step\n"
     ]
    },
    {
     "name": "stdout",
     "output_type": "stream",
     "text": [
      "Epoch 28/256\n"
     ]
    },
    {
     "name": "stdout",
     "output_type": "stream",
     "text": [
      "6251/6251 - 1105s - loss: 6.4729e-04 - val_loss: 6.9505e-04 - 1105s/epoch - 177ms/step\n"
     ]
    },
    {
     "name": "stdout",
     "output_type": "stream",
     "text": [
      "Epoch 29/256\n"
     ]
    },
    {
     "name": "stdout",
     "output_type": "stream",
     "text": [
      "6251/6251 - 1109s - loss: 6.3147e-04 - val_loss: 5.6598e-04 - 1109s/epoch - 177ms/step\n"
     ]
    },
    {
     "name": "stdout",
     "output_type": "stream",
     "text": [
      "Epoch 30/256\n"
     ]
    },
    {
     "name": "stdout",
     "output_type": "stream",
     "text": [
      "6251/6251 - 1105s - loss: 6.2000e-04 - val_loss: 9.2291e-04 - 1105s/epoch - 177ms/step\n"
     ]
    },
    {
     "name": "stdout",
     "output_type": "stream",
     "text": [
      "Epoch 31/256\n"
     ]
    },
    {
     "name": "stdout",
     "output_type": "stream",
     "text": [
      "6251/6251 - 1078s - loss: 6.0630e-04 - val_loss: 5.4555e-04 - 1078s/epoch - 172ms/step\n"
     ]
    },
    {
     "name": "stdout",
     "output_type": "stream",
     "text": [
      "Epoch 32/256\n"
     ]
    },
    {
     "name": "stdout",
     "output_type": "stream",
     "text": [
      "6251/6251 - 1105s - loss: 5.9816e-04 - val_loss: 5.2419e-04 - 1105s/epoch - 177ms/step\n"
     ]
    },
    {
     "name": "stdout",
     "output_type": "stream",
     "text": [
      "Epoch 33/256\n"
     ]
    },
    {
     "name": "stdout",
     "output_type": "stream",
     "text": [
      "6251/6251 - 1153s - loss: 5.8282e-04 - val_loss: 5.2336e-04 - 1153s/epoch - 184ms/step\n"
     ]
    },
    {
     "name": "stdout",
     "output_type": "stream",
     "text": [
      "Epoch 34/256\n"
     ]
    },
    {
     "name": "stdout",
     "output_type": "stream",
     "text": [
      "6251/6251 - 1110s - loss: 5.7545e-04 - val_loss: 5.1152e-04 - 1110s/epoch - 178ms/step\n"
     ]
    },
    {
     "name": "stdout",
     "output_type": "stream",
     "text": [
      "Epoch 35/256\n"
     ]
    },
    {
     "name": "stdout",
     "output_type": "stream",
     "text": [
      "6251/6251 - 1090s - loss: 5.6436e-04 - val_loss: 4.9572e-04 - 1090s/epoch - 174ms/step\n"
     ]
    },
    {
     "name": "stdout",
     "output_type": "stream",
     "text": [
      "Epoch 36/256\n"
     ]
    },
    {
     "name": "stdout",
     "output_type": "stream",
     "text": [
      "6251/6251 - 1100s - loss: 5.5281e-04 - val_loss: 4.9337e-04 - 1100s/epoch - 176ms/step\n"
     ]
    },
    {
     "name": "stdout",
     "output_type": "stream",
     "text": [
      "Epoch 37/256\n"
     ]
    },
    {
     "name": "stdout",
     "output_type": "stream",
     "text": [
      "6251/6251 - 1116s - loss: 5.4566e-04 - val_loss: 4.8195e-04 - 1116s/epoch - 179ms/step\n"
     ]
    },
    {
     "name": "stdout",
     "output_type": "stream",
     "text": [
      "Epoch 38/256\n"
     ]
    },
    {
     "name": "stdout",
     "output_type": "stream",
     "text": [
      "6251/6251 - 1114s - loss: 5.3671e-04 - val_loss: 4.7612e-04 - 1114s/epoch - 178ms/step\n"
     ]
    },
    {
     "name": "stdout",
     "output_type": "stream",
     "text": [
      "Epoch 39/256\n"
     ]
    },
    {
     "name": "stdout",
     "output_type": "stream",
     "text": [
      "6251/6251 - 1108s - loss: 5.3063e-04 - val_loss: 4.6848e-04 - 1108s/epoch - 177ms/step\n"
     ]
    }
   ],
   "source": [
    "# %% [code] {\"jupyter\":{\"outputs_hidden\":false}}\n",
    "import gc\n",
    "\n",
    "import matplotlib.pyplot as plt\n",
    "import numpy as np\n",
    "import tensorflow as tf\n",
    "\n",
    "# check the tensorflow and GPU\n",
    "\n",
    "# print(f\"Using Tensorflow {tf.__version__}\")\n",
    "# device_name = tf.test.gpu_device_name()\n",
    "# if device_name != \"/device:GPU:0\":\n",
    "#     raise SystemError(\"GPU device not found\")\n",
    "# print(\n",
    "#     f\"Found GPU adn CPU.\\nTensorFlow has access to the following devices:\\n{tf.config.list_physical_devices()}\"\n",
    "# )\n",
    "\n",
    "\n",
    "# import the datasets and check the files\n",
    "\n",
    "import os\n",
    "\n",
    "# path = \"./phys591000-2023-final-project/\"  # run on the local machine\n",
    "# path = \"/content/drive/Shareddrives/2023AI_final/2023AI_final/phys591000-2023-final-project/\" # run on the google colab\n",
    "path = \"/kaggle/input/dune-neutrino/\"  # Kaggle\n",
    "if not os.path.isfile(path + \"neutrino_test_data.npz\") or os.path.isfile(\n",
    "    path + \"neutrino_train_data.npz\"\n",
    "):\n",
    "    raise FileNotFoundError(\"test/train data was not found or is a directory\")\n",
    "\n",
    "# take out data from the datasets\n",
    "\n",
    "data_train = np.load(path + \"neutrino_training_data.npz\")  # ideal data\n",
    "data_test = np.load(path + \"neutrino_test_data.npz\")  # pseudo-exp data\n",
    "\n",
    "name_train = data_train.files\n",
    "name_test = data_test.files\n",
    "\n",
    "(\n",
    "    ve_train,\n",
    "    vebar_train,\n",
    "    vu_train,\n",
    "    vubar_train,\n",
    "    theta23_train,\n",
    "    delta_train,\n",
    "    ldm_train,\n",
    ") = map(lambda n: data_train[n], name_train)\n",
    "ve_test, vebar_test, vu_test, vubar_test = map(lambda n: data_test[n], name_test)\n",
    "\n",
    "\n",
    "# create train and test data\n",
    "X_train = np.stack((ve_train, vebar_train, vu_train, vubar_train), axis=-1)\n",
    "Y_train = np.stack((theta23_train, delta_train, ldm_train), axis=-1)\n",
    "# X_test = np.stack((ve_test, vebar_test, vu_test, vubar_test), axis=-1)\n",
    "\n",
    "# [X] normalize training data to [0,1]\n",
    "x_train_NH = X_train[ldm_train > 0]\n",
    "print(f\"Before normalized, the shape of x_train: {x_train_NH.shape}\")\n",
    "v_max = np.max(x_train_NH)\n",
    "v_min = np.min(x_train_NH)\n",
    "print(f\"X-train normalized factors (v_max, v_min) = ({v_max}, {v_min})\")\n",
    "x_train_NH_norm = (x_train_NH - v_min) / (v_max - v_min)\n",
    "print(f\"After normalized, the shape of x_train: {x_train_NH_norm.shape}\")\n",
    "# [Y] normalize training label to [0,1]\n",
    "y_train_NH = Y_train[:, 0][ldm_train > 0]\n",
    "print(f\"Before normalized, the shape of y_train: {y_train_NH.shape}\")\n",
    "v_max = np.max(y_train_NH)\n",
    "v_min = np.min(y_train_NH)\n",
    "y_train_NH_norm = (y_train_NH - v_min) / (v_max - v_min)\n",
    "print(f\"Y-train normalized factors (v_max, v_min) = ({v_max}, {v_min})\")\n",
    "print(f\"After normalized, the shape of y_train: {y_train_NH_norm.shape}\")\n",
    "\n",
    "# clear unused variables\n",
    "del (\n",
    "    X_train,\n",
    "    Y_train,\n",
    "    ve_train,\n",
    "    vebar_train,\n",
    "    vu_train,\n",
    "    vubar_train,\n",
    "    theta23_train,\n",
    "    delta_train,\n",
    "    ldm_train,\n",
    "    ve_test,\n",
    "    vebar_test,\n",
    "    vu_test,\n",
    "    vubar_test,\n",
    ")\n",
    "gc.collect()\n",
    "\n",
    "# create validation data\n",
    "from sklearn.model_selection import train_test_split\n",
    "\n",
    "# split the training dataset into training and validation, with test_size = 0.2\n",
    "tf.random.set_seed(2023)\n",
    "x_train, x_val, y_train, y_val = train_test_split(\n",
    "    x_train_NH_norm,\n",
    "    y_train_NH_norm,\n",
    "    test_size=0.2,\n",
    "    shuffle=True,\n",
    ")\n",
    "# clear unused variables\n",
    "del x_train_NH_norm, y_train_NH_norm\n",
    "\n",
    "from tensorflow.keras import Input, Model\n",
    "from tensorflow.keras import backend as K\n",
    "from tensorflow.keras import regularizers\n",
    "from tensorflow.keras.layers import (\n",
    "    AveragePooling2D,\n",
    "    BatchNormalization,\n",
    "    Conv2D,\n",
    "    Conv2DTranspose,\n",
    "    Dense,\n",
    "    Dropout,\n",
    "    Flatten,\n",
    "    Lambda,\n",
    "    Layer,\n",
    "    LeakyReLU,\n",
    "    Reshape,\n",
    ")\n",
    "\n",
    "\n",
    "def create_model_cvae(input_dim, latent_dim):\n",
    "    def conv2d(inputs, filters, kernel_size):\n",
    "        x = Conv2D(filters, kernel_size=kernel_size, strides=1, padding=\"same\")(inputs)\n",
    "        x = BatchNormalization()(x)\n",
    "        x = LeakyReLU(alpha=0.2)(x)\n",
    "        x = Conv2D(filters, kernel_size=kernel_size, strides=1, padding=\"same\")(x)\n",
    "        x = BatchNormalization()(x)\n",
    "        x = LeakyReLU(alpha=0.2)(x)\n",
    "        x = AveragePooling2D(pool_size=(2, 2))(x)\n",
    "        return x\n",
    "\n",
    "    # Encoder\n",
    "    inputs = Input(shape=input_dim)\n",
    "    x = conv2d(inputs, filters=64, kernel_size=4)\n",
    "    x = conv2d(x, filters=32, kernel_size=4)\n",
    "    x = Flatten()(x)\n",
    "    x = Dense(256, kernel_regularizer=regularizers.l2(0.002), activation=\"elu\")(x)\n",
    "    x = Dense(64, kernel_regularizer=regularizers.l2(0.002), activation=\"elu\")(x)\n",
    "    x = Dense(16, kernel_regularizer=regularizers.l2(0.002), activation=\"elu\")(x)\n",
    "    x = Dense(1, activation=\"relu\")(x)\n",
    "    dcnn = Model(inputs, x, name=\"dnn\")\n",
    "    dcnn.summary()\n",
    "\n",
    "    # CVAE + DNN\n",
    "    model_inputs = Input(shape=input_dim)\n",
    "    fin_dnn = dcnn(model_inputs)\n",
    "    dcnn = Model(inputs=model_inputs, outputs=fin_dnn)\n",
    "    return dcnn\n",
    "\n",
    "\n",
    "from tensorflow.keras.optimizers import Adam\n",
    "\n",
    "# Declare the model\n",
    "cvae = create_model_cvae(\n",
    "    input_dim=(x_train.shape[1], x_train.shape[2], 1), latent_dim=2\n",
    ")\n",
    "\n",
    "# Compile the model\n",
    "cvae.compile(optimizer=Adam(5e-6), loss=\"huber\")\n",
    "\n",
    "\n",
    "from tensorflow.keras.callbacks import EarlyStopping\n",
    "\n",
    "# train\n",
    "early_stopping = EarlyStopping(\n",
    "    monitor=\"val_loss\",\n",
    "    min_delta=0.005,\n",
    "    patience=30,\n",
    "    mode=\"auto\",\n",
    "    baseline=None,\n",
    "    restore_best_weights=False,\n",
    ")\n",
    "\n",
    "cvae.fit(\n",
    "    x=x_train,\n",
    "    y=y_train,\n",
    "    validation_data=(x_val, y_val),\n",
    "    epochs=256,\n",
    "    batch_size=64,\n",
    "    callbacks=[early_stopping],\n",
    "    shuffle=True,\n",
    "    verbose=2,\n",
    ")\n",
    "\n",
    "# check the loss function\n",
    "fig = plt.figure(figsize=(8, 5), dpi=120)\n",
    "history = cvae.history.history\n",
    "plt.plot(history[\"loss\"], lw=2.5, label=\"Train\", alpha=0.8)\n",
    "plt.plot(history[\"val_loss\"], lw=2.5, label=\"Validation\", alpha=0.8)\n",
    "plt.title(\"Epoch vs Huber loss\")\n",
    "plt.xlabel(\"epoch\")\n",
    "plt.ylabel(\"Loss (Huber)\")\n",
    "plt.legend(loc=\"best\")\n",
    "plt.savefig(\"CVAE_loss.png\")\n",
    "plt.close()\n",
    "\n",
    "# save model\n",
    "cvae.save(\"./CVAE_Theta23.h5\")\n"
   ]
  }
 ],
 "metadata": {
  "kernelspec": {
   "display_name": "Python 3",
   "language": "python",
   "name": "python3"
  },
  "language_info": {
   "codemirror_mode": {
    "name": "ipython",
    "version": 3
   },
   "file_extension": ".py",
   "mimetype": "text/x-python",
   "name": "python",
   "nbconvert_exporter": "python",
   "pygments_lexer": "ipython3",
   "version": "3.6.4"
  },
  "papermill": {
   "default_parameters": {},
   "duration": null,
   "end_time": null,
   "environment_variables": {},
   "exception": null,
   "input_path": "__notebook__.ipynb",
   "output_path": "__notebook__.ipynb",
   "parameters": {},
   "start_time": "2023-05-26T04:37:46.732272",
   "version": "2.4.0"
  }
 },
 "nbformat": 4,
 "nbformat_minor": 5
}
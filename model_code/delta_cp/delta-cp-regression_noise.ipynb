{
 "cells": [
  {
   "cell_type": "code",
   "execution_count": 1,
   "id": "1b42c115",
   "metadata": {
    "_cell_guid": "a2bc6e90-179a-4402-ac35-ff7a23fa7640",
    "_uuid": "ae2b75bd-0d8e-44e8-864e-125b27363cc0",
    "collapsed": false,
    "execution": {
     "iopub.execute_input": "2023-05-30T04:42:44.260393Z",
     "iopub.status.busy": "2023-05-30T04:42:44.259474Z",
     "iopub.status.idle": "2023-05-30T04:43:24.030060Z",
     "shell.execute_reply": "2023-05-30T04:43:24.029014Z"
    },
    "jupyter": {
     "outputs_hidden": false
    },
    "papermill": {
     "duration": 39.781297,
     "end_time": "2023-05-30T04:43:24.032456",
     "exception": false,
     "start_time": "2023-05-30T04:42:44.251159",
     "status": "completed"
    },
    "tags": []
   },
   "outputs": [
    {
     "name": "stderr",
     "output_type": "stream",
     "text": [
      "/opt/conda/lib/python3.10/site-packages/tensorflow_io/python/ops/__init__.py:98: UserWarning: unable to load libtensorflow_io_plugins.so: unable to open file: libtensorflow_io_plugins.so, from paths: ['/opt/conda/lib/python3.10/site-packages/tensorflow_io/python/ops/libtensorflow_io_plugins.so']\n",
      "caused by: ['/opt/conda/lib/python3.10/site-packages/tensorflow_io/python/ops/libtensorflow_io_plugins.so: undefined symbol: _ZN3tsl6StatusC1EN10tensorflow5error4CodeESt17basic_string_viewIcSt11char_traitsIcEENS_14SourceLocationE']\n",
      "  warnings.warn(f\"unable to load libtensorflow_io_plugins.so: {e}\")\n",
      "/opt/conda/lib/python3.10/site-packages/tensorflow_io/python/ops/__init__.py:104: UserWarning: file system plugins are not loaded: unable to open file: libtensorflow_io.so, from paths: ['/opt/conda/lib/python3.10/site-packages/tensorflow_io/python/ops/libtensorflow_io.so']\n",
      "caused by: ['/opt/conda/lib/python3.10/site-packages/tensorflow_io/python/ops/libtensorflow_io.so: undefined symbol: _ZTVN10tensorflow13GcsFileSystemE']\n",
      "  warnings.warn(f\"file system plugins are not loaded: {e}\")\n"
     ]
    },
    {
     "name": "stdout",
     "output_type": "stream",
     "text": [
      "Using Tensorflow 2.12.0\n",
      "Found GPU adn CPU.\n",
      "TensorFlow has access to the following devices:\n",
      "[PhysicalDevice(name='/physical_device:CPU:0', device_type='CPU'), PhysicalDevice(name='/physical_device:GPU:0', device_type='GPU')]\n"
     ]
    }
   ],
   "source": [
    "# %% [code] {\"jupyter\":{\"outputs_hidden\":false}}\n",
    "\n",
    "%reset -f\n",
    "\n",
    "import gc\n",
    "\n",
    "import matplotlib.pyplot as plt\n",
    "import numpy as np\n",
    "import tensorflow as tf\n",
    "\n",
    "# check the tensorflow and GPU\n",
    "print(f\"Using Tensorflow {tf.__version__}\")\n",
    "device_name = tf.test.gpu_device_name()\n",
    "if device_name != \"/device:GPU:0\":\n",
    "    raise SystemError(\"GPU device not found\")\n",
    "print(\n",
    "    f\"Found GPU adn CPU.\\nTensorFlow has access to the following devices:\\n{tf.config.list_physical_devices()}\"\n",
    ")\n",
    "\n",
    "\n",
    "# import the datasets and check the files\n",
    "\n",
    "import os\n",
    "\n",
    "# path = \"./phys591000-2023-final-project/\"  # run on the local machine\n",
    "# path = \"/content/drive/Shareddrives/2023AI_final/2023AI_final/phys591000-2023-final-project/\" # run on the google colab\n",
    "path = \"/kaggle/input/dune-neutrino/\"  # Kaggle\n",
    "if not os.path.isfile(path + \"neutrino_test_data.npz\") or os.path.isfile(\n",
    "    path + \"neutrino_train_data.npz\"\n",
    "):\n",
    "    raise FileNotFoundError(\"test/train data was not found or is a directory\")\n",
    "\n",
    "# take out data from the datasets\n",
    "\n",
    "data_train = np.load(path + \"neutrino_training_data.npz\")  # ideal data\n",
    "data_test = np.load(path + \"neutrino_test_data.npz\")  # pseudo-exp data\n",
    "\n",
    "name_train = data_train.files\n",
    "name_test = data_test.files\n",
    "\n",
    "(\n",
    "    ve_train,\n",
    "    vebar_train,\n",
    "    vu_train,\n",
    "    vubar_train,\n",
    "    theta23_train,\n",
    "    delta_train,\n",
    "    ldm_train,\n",
    ") = map(lambda n: data_train[n], name_train)\n",
    "ve_test, vebar_test, vu_test, vubar_test = map(lambda n: data_test[n], name_test)\n",
    "\n",
    "\n",
    "# create train and test data\n",
    "noise_ve    = 15 * np.random.normal(0, 1, size=ve_train.shape)\n",
    "noise_vebar = 5 * np.random.normal(0, 1, size=vebar_train.shape)\n",
    "noise_vu    = 20 * np.random.normal(0, 1, size=vu_train.shape)\n",
    "noise_vubar = 20 * np.random.normal(0, 1, size=vubar_train.shape)\n",
    "\n",
    "X_train = np.stack((ve_train+noise_ve, vebar_train+noise_vebar, vu_train+noise_vu, vubar_train+noise_vubar), axis=-1)\n",
    "Y_train = np.stack((theta23_train, delta_train, ldm_train), axis=-1)\n",
    "# X_test = np.stack((ve_test, vebar_test, vu_test, vubar_test), axis=-1)"
   ]
  },
  {
   "cell_type": "code",
   "execution_count": 2,
   "id": "4d1f4159",
   "metadata": {
    "execution": {
     "iopub.execute_input": "2023-05-30T04:43:24.040298Z",
     "iopub.status.busy": "2023-05-30T04:43:24.039699Z",
     "iopub.status.idle": "2023-05-30T04:43:25.258828Z",
     "shell.execute_reply": "2023-05-30T04:43:25.257913Z"
    },
    "papermill": {
     "duration": 1.225102,
     "end_time": "2023-05-30T04:43:25.260899",
     "exception": false,
     "start_time": "2023-05-30T04:43:24.035797",
     "status": "completed"
    },
    "tags": []
   },
   "outputs": [
    {
     "name": "stdout",
     "output_type": "stream",
     "text": [
      "Before normalized, the shape of x_train: (500027, 65, 4)\n",
      "X-train normalized factors (v_max, v_min) = (2000.6845651609444, -71.65902196000965)\n",
      "After normalized, the shape of x_train: (500027, 65, 4)\n",
      "Before normalized, the shape of y_train: (500027,)\n",
      "Y-train normalized factors (v_max, v_min) = (0.9999999999253686, -1.0)\n",
      "After normalized, the shape of y_train: (500027,)\n"
     ]
    },
    {
     "data": {
      "text/plain": [
       "121"
      ]
     },
     "execution_count": 2,
     "metadata": {},
     "output_type": "execute_result"
    }
   ],
   "source": [
    "# [X] normalize training data to [0,1]\n",
    "x_train_NH = X_train[ldm_train > 0]\n",
    "print(f\"Before normalized, the shape of x_train: {x_train_NH.shape}\")\n",
    "v_max = np.max(x_train_NH)\n",
    "v_min = np.min(x_train_NH)\n",
    "print(f\"X-train normalized factors (v_max, v_min) = ({v_max}, {v_min})\")\n",
    "x_train_NH_norm = (x_train_NH - v_min) / (v_max - v_min)\n",
    "print(f\"After normalized, the shape of x_train: {x_train_NH_norm.shape}\")\n",
    "\n",
    "# [Y] normalize training label to [0,1] --> using sine function \n",
    "y_train_NH = Y_train[:, 1][ldm_train > 0]\n",
    "print(f\"Before normalized, the shape of y_train: {y_train_NH.shape}\")\n",
    "# v_max = np.max(y_train_NH)\n",
    "# v_min = np.min(y_train_NH)\n",
    "y_train_NH_norm = np.sin(y_train_NH * np.pi/180) # degree -> rad\n",
    "print(f\"Y-train normalized factors (v_max, v_min) = ({np.max(y_train_NH_norm)}, {np.min(y_train_NH_norm)})\")\n",
    "print(f\"After normalized, the shape of y_train: {y_train_NH_norm.shape}\")\n",
    "\n",
    "# clear unused variables\n",
    "del (\n",
    "    X_train,\n",
    "    Y_train,\n",
    "    ve_train,\n",
    "    vebar_train,\n",
    "    vu_train,\n",
    "    vubar_train,\n",
    "    theta23_train,\n",
    "    delta_train,\n",
    "    ldm_train,\n",
    "    ve_test,\n",
    "    vebar_test,\n",
    "    vu_test,\n",
    "    vubar_test,\n",
    ")\n",
    "gc.collect()"
   ]
  },
  {
   "cell_type": "code",
   "execution_count": 3,
   "id": "d834f5ac",
   "metadata": {
    "execution": {
     "iopub.execute_input": "2023-05-30T04:43:25.268374Z",
     "iopub.status.busy": "2023-05-30T04:43:25.268081Z",
     "iopub.status.idle": "2023-05-30T04:43:26.326943Z",
     "shell.execute_reply": "2023-05-30T04:43:26.325913Z"
    },
    "papermill": {
     "duration": 1.065419,
     "end_time": "2023-05-30T04:43:26.329528",
     "exception": false,
     "start_time": "2023-05-30T04:43:25.264109",
     "status": "completed"
    },
    "tags": []
   },
   "outputs": [],
   "source": [
    "\n",
    "# create validation data\n",
    "from sklearn.model_selection import train_test_split\n",
    "\n",
    "# split the training dataset into training and validation, with test_size = 0.2\n",
    "tf.random.set_seed(2023)\n",
    "x_train, x_val, y_train, y_val = train_test_split(\n",
    "    x_train_NH_norm,\n",
    "    y_train_NH_norm,\n",
    "    random_state=10,\n",
    "    test_size=0.2,\n",
    "    shuffle=True,\n",
    ")\n",
    "# clear unused variables\n",
    "del x_train_NH_norm, y_train_NH_norm"
   ]
  },
  {
   "cell_type": "code",
   "execution_count": 4,
   "id": "7cc4bbeb",
   "metadata": {
    "execution": {
     "iopub.execute_input": "2023-05-30T04:43:26.337534Z",
     "iopub.status.busy": "2023-05-30T04:43:26.337232Z",
     "iopub.status.idle": "2023-05-30T04:43:27.188251Z",
     "shell.execute_reply": "2023-05-30T04:43:27.187345Z"
    },
    "papermill": {
     "duration": 0.85759,
     "end_time": "2023-05-30T04:43:27.190443",
     "exception": false,
     "start_time": "2023-05-30T04:43:26.332853",
     "status": "completed"
    },
    "tags": []
   },
   "outputs": [
    {
     "name": "stdout",
     "output_type": "stream",
     "text": [
      "Model: \"vgg\"\n",
      "_________________________________________________________________\n",
      " Layer (type)                Output Shape              Param #   \n",
      "=================================================================\n",
      " input_1 (InputLayer)        [(None, 65, 4, 1)]        0         \n",
      "                                                                 \n",
      " conv2d (Conv2D)             (None, 65, 4, 8)          40        \n",
      "                                                                 \n",
      " batch_normalization (BatchN  (None, 65, 4, 8)         32        \n",
      " ormalization)                                                   \n",
      "                                                                 \n",
      " leaky_re_lu (LeakyReLU)     (None, 65, 4, 8)          0         \n",
      "                                                                 \n",
      " conv2d_1 (Conv2D)           (None, 65, 4, 8)          264       \n",
      "                                                                 \n",
      " batch_normalization_1 (Batc  (None, 65, 4, 8)         32        \n",
      " hNormalization)                                                 \n",
      "                                                                 \n",
      " leaky_re_lu_1 (LeakyReLU)   (None, 65, 4, 8)          0         \n",
      "                                                                 \n",
      " max_pooling2d (MaxPooling2D  (None, 33, 2, 8)         0         \n",
      " )                                                               \n",
      "                                                                 \n",
      " conv2d_2 (Conv2D)           (None, 33, 2, 16)         528       \n",
      "                                                                 \n",
      " batch_normalization_2 (Batc  (None, 33, 2, 16)        64        \n",
      " hNormalization)                                                 \n",
      "                                                                 \n",
      " leaky_re_lu_2 (LeakyReLU)   (None, 33, 2, 16)         0         \n",
      "                                                                 \n",
      " conv2d_3 (Conv2D)           (None, 33, 2, 16)         1040      \n",
      "                                                                 \n",
      " batch_normalization_3 (Batc  (None, 33, 2, 16)        64        \n",
      " hNormalization)                                                 \n",
      "                                                                 \n",
      " leaky_re_lu_3 (LeakyReLU)   (None, 33, 2, 16)         0         \n",
      "                                                                 \n",
      " max_pooling2d_1 (MaxPooling  (None, 17, 1, 16)        0         \n",
      " 2D)                                                             \n",
      "                                                                 \n",
      " flatten (Flatten)           (None, 272)               0         \n",
      "                                                                 \n",
      " dropout (Dropout)           (None, 272)               0         \n",
      "                                                                 \n",
      " dense (Dense)               (None, 64)                17472     \n",
      "                                                                 \n",
      " dropout_1 (Dropout)         (None, 64)                0         \n",
      "                                                                 \n",
      " dense_1 (Dense)             (None, 1)                 65        \n",
      "                                                                 \n",
      "=================================================================\n",
      "Total params: 19,601\n",
      "Trainable params: 19,505\n",
      "Non-trainable params: 96\n",
      "_________________________________________________________________\n"
     ]
    }
   ],
   "source": [
    "from tensorflow.keras import Input, Model\n",
    "from tensorflow.keras import backend as K\n",
    "from tensorflow.keras import regularizers\n",
    "from tensorflow.keras.layers import (\n",
    "    AveragePooling2D,\n",
    "    MaxPooling2D,\n",
    "    BatchNormalization,\n",
    "    Conv2D,\n",
    "    Conv2DTranspose,\n",
    "    Dense,\n",
    "    Dropout,\n",
    "    Flatten,\n",
    "    Lambda,\n",
    "    Layer,\n",
    "    LeakyReLU,\n",
    "    Reshape,\n",
    ")\n",
    "\n",
    "\n",
    "def create_model_vgg_mod(input_dim):\n",
    "    def conv2(inputs, filters, kernel_size):\n",
    "        x = Conv2D(filters, kernel_size=kernel_size, strides=1, padding=\"same\")(inputs)\n",
    "        x = BatchNormalization()(x)\n",
    "        x = LeakyReLU(alpha=0.1)(x)\n",
    "        x = Conv2D(filters, kernel_size=kernel_size, strides=1, padding=\"same\")(x)\n",
    "        x = BatchNormalization()(x)\n",
    "        x = LeakyReLU(alpha=0.1)(x)\n",
    "        x = MaxPooling2D(padding=\"same\")(x)\n",
    "        return x\n",
    "    def conv3(inputs, filters, kernel_size):\n",
    "        x = Conv2D(filters, kernel_size=kernel_size, strides=1, padding=\"same\")(inputs)\n",
    "        x = BatchNormalization()(x)\n",
    "        x = LeakyReLU(alpha=0.1)(x)\n",
    "        x = Conv2D(filters, kernel_size=kernel_size, strides=1, padding=\"same\")(x)\n",
    "        x = BatchNormalization()(x)\n",
    "        x = LeakyReLU(alpha=0.1)(x)\n",
    "        x = Conv2D(filters, kernel_size=kernel_size, strides=1, padding=\"same\")(x)\n",
    "        x = BatchNormalization()(x)\n",
    "        x = LeakyReLU(alpha=0.1)(x)\n",
    "        x = MaxPooling2D(padding=\"same\")(x)\n",
    "        return x\n",
    "\n",
    "    inputs = Input(shape=input_dim)\n",
    "    x = conv2(inputs, filters=8, kernel_size=(2,2))\n",
    "    x = conv2(x, filters=16, kernel_size=(2,2))\n",
    "#     x = conv3(x, filters=8, kernel_size=(2,2))\n",
    "#     x = conv3(x, filters=16, kernel_size=(2,2))\n",
    "    x = Flatten()(x)\n",
    "    x = Dropout(0.2)(x)\n",
    "    x = Dense(64, kernel_regularizer=regularizers.l2(0.001))(x)\n",
    "    x = Dropout(0.2)(x)\n",
    "    x = Dense(1, kernel_regularizer=regularizers.l2(0.001), activation=\"tanh\")(x)\n",
    "    VGG_mod = Model(inputs, x, name=\"vgg\")\n",
    "    VGG_mod.summary()\n",
    "\n",
    "    model_inputs = Input(shape=input_dim)\n",
    "    model_outputs = VGG_mod(model_inputs)\n",
    "    vgg_mod = Model(inputs=model_inputs, outputs=model_outputs)\n",
    "    return vgg_mod\n",
    "\n",
    "\n",
    "from tensorflow.keras.optimizers import Adam\n",
    "\n",
    "# Declare the model\n",
    "vgg = create_model_vgg_mod(\n",
    "    input_dim=(x_train.shape[1], x_train.shape[2], 1)\n",
    ")\n",
    "\n",
    "# Compile the model\n",
    "vgg.compile(optimizer=Adam(5e-5), loss=\"huber\")"
   ]
  },
  {
   "cell_type": "code",
   "execution_count": 5,
   "id": "7b127745",
   "metadata": {
    "execution": {
     "iopub.execute_input": "2023-05-30T04:43:27.205990Z",
     "iopub.status.busy": "2023-05-30T04:43:27.205698Z",
     "iopub.status.idle": "2023-05-30T04:54:06.218406Z",
     "shell.execute_reply": "2023-05-30T04:54:06.217479Z"
    },
    "papermill": {
     "duration": 639.03223,
     "end_time": "2023-05-30T04:54:06.229907",
     "exception": false,
     "start_time": "2023-05-30T04:43:27.197677",
     "status": "completed"
    },
    "tags": []
   },
   "outputs": [
    {
     "name": "stdout",
     "output_type": "stream",
     "text": [
      "Epoch 1/512\n",
      "6251/6251 - 43s - loss: 0.1903 - val_loss: 0.0802 - 43s/epoch - 7ms/step\n",
      "Epoch 2/512\n",
      "6251/6251 - 32s - loss: 0.0650 - val_loss: 0.0406 - 32s/epoch - 5ms/step\n",
      "Epoch 3/512\n",
      "6251/6251 - 34s - loss: 0.0342 - val_loss: 0.0300 - 34s/epoch - 5ms/step\n",
      "Epoch 4/512\n",
      "6251/6251 - 33s - loss: 0.0219 - val_loss: 0.0172 - 33s/epoch - 5ms/step\n",
      "Epoch 5/512\n",
      "6251/6251 - 32s - loss: 0.0175 - val_loss: 0.0262 - 32s/epoch - 5ms/step\n",
      "Epoch 6/512\n",
      "6251/6251 - 33s - loss: 0.0159 - val_loss: 0.0140 - 33s/epoch - 5ms/step\n",
      "Epoch 7/512\n",
      "6251/6251 - 34s - loss: 0.0151 - val_loss: 0.0237 - 34s/epoch - 6ms/step\n",
      "Epoch 8/512\n",
      "6251/6251 - 32s - loss: 0.0147 - val_loss: 0.0133 - 32s/epoch - 5ms/step\n",
      "Epoch 9/512\n",
      "6251/6251 - 34s - loss: 0.0145 - val_loss: 0.0196 - 34s/epoch - 5ms/step\n",
      "Epoch 10/512\n",
      "6251/6251 - 34s - loss: 0.0144 - val_loss: 0.0133 - 34s/epoch - 5ms/step\n",
      "Epoch 11/512\n",
      "6251/6251 - 32s - loss: 0.0143 - val_loss: 0.0135 - 32s/epoch - 5ms/step\n",
      "Epoch 12/512\n",
      "6251/6251 - 32s - loss: 0.0142 - val_loss: 0.0196 - 32s/epoch - 5ms/step\n",
      "Epoch 13/512\n",
      "6251/6251 - 32s - loss: 0.0141 - val_loss: 0.0175 - 32s/epoch - 5ms/step\n",
      "Epoch 14/512\n",
      "6251/6251 - 32s - loss: 0.0141 - val_loss: 0.0141 - 32s/epoch - 5ms/step\n",
      "Epoch 15/512\n",
      "6251/6251 - 34s - loss: 0.0140 - val_loss: 0.0149 - 34s/epoch - 5ms/step\n",
      "Epoch 16/512\n",
      "6251/6251 - 32s - loss: 0.0140 - val_loss: 0.0169 - 32s/epoch - 5ms/step\n",
      "Epoch 17/512\n",
      "6251/6251 - 32s - loss: 0.0139 - val_loss: 0.0138 - 32s/epoch - 5ms/step\n",
      "Epoch 18/512\n",
      "6251/6251 - 34s - loss: 0.0139 - val_loss: 0.0142 - 34s/epoch - 5ms/step\n",
      "Epoch 19/512\n",
      "6251/6251 - 34s - loss: 0.0139 - val_loss: 0.0130 - 34s/epoch - 5ms/step\n"
     ]
    },
    {
     "data": {
      "text/plain": [
       "<keras.callbacks.History at 0x7a5f800cf430>"
      ]
     },
     "execution_count": 5,
     "metadata": {},
     "output_type": "execute_result"
    }
   ],
   "source": [
    "from tensorflow.keras.callbacks import EarlyStopping\n",
    "\n",
    "# train\n",
    "early_stopping = EarlyStopping(\n",
    "    monitor=\"val_loss\",\n",
    "    min_delta=0.005,\n",
    "    patience=15,\n",
    "    mode=\"auto\",\n",
    "    baseline=None,\n",
    "    restore_best_weights=False,\n",
    ")\n",
    "\n",
    "vgg.fit(\n",
    "    x=x_train,\n",
    "    y=y_train,\n",
    "    validation_data=(x_val, y_val),\n",
    "    epochs=512,\n",
    "    batch_size=64,\n",
    "    callbacks=[early_stopping],\n",
    "    shuffle=True,\n",
    "    verbose=2,\n",
    ")"
   ]
  },
  {
   "cell_type": "code",
   "execution_count": 6,
   "id": "a3b7deb1",
   "metadata": {
    "execution": {
     "iopub.execute_input": "2023-05-30T04:54:06.269028Z",
     "iopub.status.busy": "2023-05-30T04:54:06.268651Z",
     "iopub.status.idle": "2023-05-30T04:55:01.798023Z",
     "shell.execute_reply": "2023-05-30T04:55:01.797077Z"
    },
    "papermill": {
     "duration": 55.547042,
     "end_time": "2023-05-30T04:55:01.800255",
     "exception": false,
     "start_time": "2023-05-30T04:54:06.253213",
     "status": "completed"
    },
    "tags": []
   },
   "outputs": [
    {
     "name": "stdout",
     "output_type": "stream",
     "text": [
      "3126/3126 [==============================] - 6s 2ms/step\n"
     ]
    },
    {
     "data": {
      "image/png": "[encoded data removed]",
      "text/plain": [
       "<Figure size 960x600 with 1 Axes>"
      ]
     },
     "metadata": {},
     "output_type": "display_data"
    }
   ],
   "source": [
    "# check the loss function\n",
    "fig = plt.figure(figsize=(8, 5), dpi=120)\n",
    "history = vgg.history.history\n",
    "plt.plot(history[\"loss\"], lw=2.5, label=\"Train\", alpha=0.8)\n",
    "plt.plot(history[\"val_loss\"], lw=2.5, label=\"Validation\", alpha=0.8)\n",
    "plt.title(\"Epoch vs Huber loss\")\n",
    "plt.xlabel(\"epoch\")\n",
    "plt.ylabel(\"Loss (Huber)\")\n",
    "plt.legend(loc=\"best\")\n",
    "plt.savefig(\"regression.png\")\n",
    "# plt.close()\n",
    "\n",
    "# test predictions with scatter plot\n",
    "x = vgg.predict(x_val)\n",
    "plt.scatter(x, y_val, s=1, alpha=0.05, label=\"data\")\n",
    "plt.legend(loc=\"best\")\n",
    "plt.xlabel(\"Pred\")\n",
    "plt.ylabel(\"True\")\n",
    "plt.axis('equal')\n",
    "\n",
    "# save model\n",
    "vgg.save(\"./regression.h5\")"
   ]
  }
 ],
 "metadata": {
  "kernelspec": {
   "display_name": "Python 3",
   "language": "python",
   "name": "python3"
  },
  "language_info": {
   "codemirror_mode": {
    "name": "ipython",
    "version": 3
   },
   "file_extension": ".py",
   "mimetype": "text/x-python",
   "name": "python",
   "nbconvert_exporter": "python",
   "pygments_lexer": "ipython3",
   "version": "3.10.10"
  },
  "papermill": {
   "default_parameters": {},
   "duration": 750.998491,
   "end_time": "2023-05-30T04:55:04.977207",
   "environment_variables": {},
   "exception": null,
   "input_path": "__notebook__.ipynb",
   "output_path": "__notebook__.ipynb",
   "parameters": {},
   "start_time": "2023-05-30T04:42:33.978716",
   "version": "2.4.0"
  }
 },
 "nbformat": 4,
 "nbformat_minor": 5
}

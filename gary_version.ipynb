{
  "cells": [
    {
      "cell_type": "markdown",
      "id": "5e46a632",
      "metadata": {
        "id": "5e46a632",
        "papermill": {
          "duration": 0.009617,
          "end_time": "2023-05-21T16:00:24.702390",
          "exception": false,
          "start_time": "2023-05-21T16:00:24.692773",
          "status": "completed"
        },
        "tags": []
      },
      "source": [
        "# **Neutrino Oscillation with DUNE**\n",
        "\n",
        "## PHYS591000 Physics AI Final Project\n",
        "\n",
        "This is the project implementing ML to find out the $\\Theta_{13}$ and $\\delta_{cp}$ using the neutrino data from DUNE experiment.  \n",
        "Original link: [Kaggle](https://www.kaggle.com/competitions/phys591000-2023-final-project-i)\n",
        "\n",
        "> Author(s): Siang-Yuan Lin, Yuan-Yen Peng  \n",
        "> Email(s) : sylin@gapp.nthu.edu.tw, garyphys0915@gapp.nthu.edu.tw  \n",
        "> Licence : MIT  \n",
        "> Data : May, 2023\n"
      ]
    },
    {
      "cell_type": "markdown",
      "id": "b5c9ec81",
      "metadata": {
        "id": "b5c9ec81",
        "papermill": {
          "duration": 0.006879,
          "end_time": "2023-05-21T16:00:24.717176",
          "exception": false,
          "start_time": "2023-05-21T16:00:24.710297",
          "status": "completed"
        },
        "tags": []
      },
      "source": [
        "### prerequisites\n",
        "\n",
        "1. reset all varialbes\n",
        "2. import curcial modules\n",
        "3. mount google drive\n",
        "4. check the GPU is on\n"
      ]
    },
    {
      "cell_type": "code",
      "execution_count": null,
      "id": "3f7a56f4",
      "metadata": {
        "execution": {
          "iopub.execute_input": "2023-05-21T16:00:24.733670Z",
          "iopub.status.busy": "2023-05-21T16:00:24.732653Z",
          "iopub.status.idle": "2023-05-21T16:00:24.922036Z",
          "shell.execute_reply": "2023-05-21T16:00:24.921120Z"
        },
        "id": "3f7a56f4",
        "papermill": {
          "duration": 0.200075,
          "end_time": "2023-05-21T16:00:24.924383",
          "exception": false,
          "start_time": "2023-05-21T16:00:24.724308",
          "status": "completed"
        },
        "tags": []
      },
      "outputs": [],
      "source": [
        "# clear all variables\n",
        "%reset -f \n",
        "\n",
        "import gc\n",
        "collected = gc.collect()"
      ]
    },
    {
      "cell_type": "code",
      "execution_count": null,
      "id": "338a3c34",
      "metadata": {
        "execution": {
          "iopub.execute_input": "2023-05-21T16:00:24.940605Z",
          "iopub.status.busy": "2023-05-21T16:00:24.940297Z",
          "iopub.status.idle": "2023-05-21T16:00:32.225531Z",
          "shell.execute_reply": "2023-05-21T16:00:32.224544Z"
        },
        "id": "338a3c34",
        "papermill": {
          "duration": 7.296279,
          "end_time": "2023-05-21T16:00:32.228221",
          "exception": false,
          "start_time": "2023-05-21T16:00:24.931942",
          "status": "completed"
        },
        "tags": []
      },
      "outputs": [],
      "source": [
        "import numpy as np\n",
        "import pandas as pd\n",
        "import scipy\n",
        "import matplotlib.pyplot as plt\n",
        "\n",
        "from numba import njit  # acceleration kernel\n",
        "import tensorflow as tf"
      ]
    },
    {
      "cell_type": "code",
      "execution_count": null,
      "id": "862b18b0",
      "metadata": {
        "execution": {
          "iopub.execute_input": "2023-05-21T16:00:32.244911Z",
          "iopub.status.busy": "2023-05-21T16:00:32.244315Z",
          "iopub.status.idle": "2023-05-21T16:00:32.248779Z",
          "shell.execute_reply": "2023-05-21T16:00:32.247810Z"
        },
        "id": "862b18b0",
        "papermill": {
          "duration": 0.014808,
          "end_time": "2023-05-21T16:00:32.250817",
          "exception": false,
          "start_time": "2023-05-21T16:00:32.236009",
          "status": "completed"
        },
        "tags": []
      },
      "outputs": [],
      "source": [
        "# mount the google drive to retrieve dataset\n",
        "\n",
        "from google.colab import drive\n",
        "\n",
        "drive.mount('/content/drive')"
      ]
    },
    {
      "cell_type": "code",
      "execution_count": null,
      "id": "9b37a220",
      "metadata": {
        "execution": {
          "iopub.execute_input": "2023-05-21T16:00:32.267444Z",
          "iopub.status.busy": "2023-05-21T16:00:32.266649Z",
          "iopub.status.idle": "2023-05-21T16:00:34.439078Z",
          "shell.execute_reply": "2023-05-21T16:00:34.437667Z"
        },
        "id": "9b37a220",
        "papermill": {
          "duration": 2.182735,
          "end_time": "2023-05-21T16:00:34.441093",
          "exception": false,
          "start_time": "2023-05-21T16:00:32.258358",
          "status": "completed"
        },
        "tags": []
      },
      "outputs": [],
      "source": [
        "# check the tensorflow and GPU\n",
        "\n",
        "print(f\"Using Tensorflow {tf.__version__}\")\n",
        "device_name = tf.test.gpu_device_name()\n",
        "if device_name != \"/device:GPU:0\":\n",
        "    raise SystemError(\"GPU device not found\")\n",
        "print(\n",
        "    f\"Found GPU adn CPU.\\nTensorFlow has access to the following devices:\\n{tf.config.list_physical_devices()}\"\n",
        ")\n"
      ]
    },
    {
      "cell_type": "markdown",
      "id": "6b039bbe",
      "metadata": {
        "id": "6b039bbe",
        "papermill": {
          "duration": 0.007006,
          "end_time": "2023-05-21T16:00:34.455415",
          "exception": false,
          "start_time": "2023-05-21T16:00:34.448409",
          "status": "completed"
        },
        "tags": []
      },
      "source": [
        "### import datasets\n",
        "\n",
        "1. check files exist\n",
        "2. retrieve data\n",
        "3. check shapes of data\n"
      ]
    },
    {
      "cell_type": "code",
      "execution_count": null,
      "id": "5e250024",
      "metadata": {
        "execution": {
          "iopub.execute_input": "2023-05-21T16:00:34.470820Z",
          "iopub.status.busy": "2023-05-21T16:00:34.470519Z",
          "iopub.status.idle": "2023-05-21T16:00:34.487032Z",
          "shell.execute_reply": "2023-05-21T16:00:34.485737Z"
        },
        "id": "5e250024",
        "papermill": {
          "duration": 0.026602,
          "end_time": "2023-05-21T16:00:34.489161",
          "exception": false,
          "start_time": "2023-05-21T16:00:34.462559",
          "status": "completed"
        },
        "tags": []
      },
      "outputs": [],
      "source": [
        "# import the datasets and check the files\n",
        "\n",
        "import os\n",
        "\n",
        "# path = \"./phys591000-2023-final-project/\"  # run on the local machine\n",
        "path = \"/content/drive/Shareddrives/2023AI_final/2023AI_final/phys591000-2023-final-project/\" # run on the google colab\n",
        "# path = \"/kaggle/input/phys591000-2023-final-project-i/\"# Kaggle\n",
        "for dirname, _, filenames in os.walk(path):\n",
        "    for filename in filenames:\n",
        "        print(os.path.join(dirname, filename))\n",
        "        print(\"-> The file is\", filename)\n",
        "if not os.path.isfile(path + \"neutrino_test_data.npz\") or os.path.isfile(\n",
        "    path + \"neutrino_train_data.npz\"\n",
        "):\n",
        "    raise FileNotFoundError(\"test/train data was not found or is a directory\")\n"
      ]
    },
    {
      "cell_type": "code",
      "execution_count": null,
      "id": "64f17c30",
      "metadata": {
        "execution": {
          "iopub.execute_input": "2023-05-21T16:00:34.504886Z",
          "iopub.status.busy": "2023-05-21T16:00:34.504608Z",
          "iopub.status.idle": "2023-05-21T16:00:57.378731Z",
          "shell.execute_reply": "2023-05-21T16:00:57.377339Z"
        },
        "id": "64f17c30",
        "papermill": {
          "duration": 22.884837,
          "end_time": "2023-05-21T16:00:57.381102",
          "exception": false,
          "start_time": "2023-05-21T16:00:34.496265",
          "status": "completed"
        },
        "tags": []
      },
      "outputs": [],
      "source": [
        "%%time\n",
        "# take out data from the datasets\n",
        "\n",
        "data_train = np.load(path + \"neutrino_training_data.npz\")  # ideal data\n",
        "data_test = np.load(path + \"neutrino_test_data.npz\")  # pseudo-exp data\n",
        "\n",
        "name_train = data_train.files\n",
        "name_test = data_test.files\n",
        "\n",
        "print(f\"Train: {name_train}\")\n",
        "print(f\"Test : {name_test}\")\n",
        "\n",
        "ve_train, vebar_train, vu_train, vubar_train, theta23_train, delta_train, ldm_train = map(lambda n: data_train[n], name_train)\n",
        "ve_test, vebar_test, vu_test, vubar_test = map(lambda n: data_test[n], name_test)"
      ]
    },
    {
      "cell_type": "code",
      "execution_count": null,
      "id": "5b2ecf49",
      "metadata": {
        "execution": {
          "iopub.execute_input": "2023-05-21T16:00:57.398389Z",
          "iopub.status.busy": "2023-05-21T16:00:57.397560Z",
          "iopub.status.idle": "2023-05-21T16:00:57.404027Z",
          "shell.execute_reply": "2023-05-21T16:00:57.403049Z"
        },
        "id": "5b2ecf49",
        "papermill": {
          "duration": 0.018214,
          "end_time": "2023-05-21T16:00:57.407026",
          "exception": false,
          "start_time": "2023-05-21T16:00:57.388812",
          "status": "completed"
        },
        "tags": []
      },
      "outputs": [],
      "source": [
        "# check the data shape\n",
        "\n",
        "print(\n",
        "    f\"\"\"# TRAIN\n",
        "ve_train     :{ve_train.shape}\n",
        "vebar_train  :{vebar_train.shape}\n",
        "vu_train     :{vu_train.shape}\n",
        "vubar_train  :{vubar_train.shape}\n",
        "theta23_train:{theta23_train.shape}\n",
        "delta_train  :{delta_train.shape}\n",
        "ldm_train    :{ldm_train.shape}\n",
        "\"\"\"\n",
        ")\n",
        "print(\n",
        "    f\"\"\"# TEST\n",
        "ve_test      :{ve_test.shape}\n",
        "vebar_test   :{vebar_test.shape}\n",
        "vu_test      :{vu_test.shape}\n",
        "vubar_test   :{vubar_test.shape}\n",
        "\"\"\"\n",
        ")\n"
      ]
    },
    {
      "cell_type": "markdown",
      "id": "01b41e37",
      "metadata": {
        "id": "01b41e37",
        "papermill": {
          "duration": 0.007415,
          "end_time": "2023-05-21T16:00:57.421887",
          "exception": false,
          "start_time": "2023-05-21T16:00:57.414472",
          "status": "completed"
        },
        "tags": []
      },
      "source": [
        "### preprocessing\n",
        "\n",
        "1. create train and test data\n",
        "2. inspect data structure\n",
        "3. check data\n",
        "4. normalize data\n",
        "5. <pending>\n"
      ]
    },
    {
      "cell_type": "code",
      "execution_count": null,
      "id": "00ce867b",
      "metadata": {
        "execution": {
          "iopub.execute_input": "2023-05-21T16:00:57.438244Z",
          "iopub.status.busy": "2023-05-21T16:00:57.437415Z",
          "iopub.status.idle": "2023-05-21T16:00:58.694030Z",
          "shell.execute_reply": "2023-05-21T16:00:58.693051Z"
        },
        "papermill": {
          "duration": 1.267149,
          "end_time": "2023-05-21T16:00:58.696338",
          "exception": false,
          "start_time": "2023-05-21T16:00:57.429189",
          "status": "completed"
        },
        "tags": [],
        "id": "00ce867b"
      },
      "outputs": [],
      "source": [
        "# create train and test data\n",
        "X_train = np.stack((ve_train, vebar_train, vu_train, vubar_train), axis=-1)\n",
        "Y_train = np.stack((theta23_train, delta_train, ldm_train), axis=-1)\n",
        "X_test = np.stack((ve_test, vebar_test, vu_test, vubar_test), axis=-1)\n",
        "\n",
        "print(\n",
        "    f\"\"\"\n",
        "The shape of x_train: {X_train.shape}\n",
        "The shape of y_train: {Y_train.shape}\n",
        "The shape of x_test : {X_test.shape}\n",
        "\"\"\"\n",
        ")\n"
      ]
    },
    {
      "cell_type": "code",
      "execution_count": null,
      "id": "08113c18",
      "metadata": {
        "execution": {
          "iopub.execute_input": "2023-05-21T16:00:58.714740Z",
          "iopub.status.busy": "2023-05-21T16:00:58.713097Z",
          "iopub.status.idle": "2023-05-21T16:00:58.726559Z",
          "shell.execute_reply": "2023-05-21T16:00:58.725747Z"
        },
        "id": "08113c18",
        "papermill": {
          "duration": 0.024221,
          "end_time": "2023-05-21T16:00:58.728618",
          "exception": false,
          "start_time": "2023-05-21T16:00:58.704397",
          "status": "completed"
        },
        "tags": []
      },
      "outputs": [],
      "source": [
        "# define plotting functions\n",
        "\n",
        "\n",
        "def four_plot(data_format: list) -> None:\n",
        "    train, test = data_format\n",
        "    bins = np.arange(0.625, 8 + 0.125, 0.125)\n",
        "    name = [r\"$\\nu_e$\", r\"$\\bar{\\nu}_e$\", r\"$\\nu_\\mu$\", r\"$\\bar{\\nu}_\\mu$\"]\n",
        "\n",
        "    fig, axes = plt.subplots(2, 2, figsize=(10, 10), dpi=80, constrained_layout=True)\n",
        "    fig.suptitle(\"First 60 features\")\n",
        "    for i, (train_data, test_data, name) in enumerate(zip(train, test, name)):\n",
        "        ax = axes[i // 2, i % 2]\n",
        "        ax.set_title(name)\n",
        "        ax.step(bins, train_data[:60], label=\"train\")\n",
        "        ax.step(bins, test_data[:60], label=\"test\")\n",
        "        ax.legend(loc=\"best\")\n",
        "        ax.set_xlabel(\"Energy E [GeV]\")\n",
        "        ax.set_ylabel(r\"Flux density $\\phi\\ [kg\\cdot s^{-1}\\cdot m^{-2}]$\")\n",
        "\n",
        "    plt.show()\n",
        "    print(\"Success to plot\")\n",
        "    plt.close()\n",
        "    return\n",
        "\n",
        "\n",
        "def four_2d_plot(data_format: list) -> None:\n",
        "    name = [r\"$\\nu_e$\", r\"$\\bar{\\nu}_e$\", r\"$\\nu_\\mu$\", r\"$\\bar{\\nu}_\\mu$\"]\n",
        "    vmin = min(np.min(data_format[0]), np.min(data_format[1]))\n",
        "    vmax = max(np.max(data_format[0]), np.max(data_format[1]))\n",
        "    dataset_name = [\"train\", \"test\"]\n",
        "    fig, axes = plt.subplots(2, 1, figsize=(10, 4), dpi=80, constrained_layout=True)\n",
        "    fig.suptitle(\"First 60 features\")\n",
        "    for i, data in enumerate(data_format):\n",
        "        ax = axes[i]\n",
        "        im = ax.imshow(data.T, origin=\"lower\")\n",
        "        ax.set_title(dataset_name[i])\n",
        "        ax.set_xlabel(\"Energy E [GeV]\")\n",
        "        ax.set_yticks(np.arange(4))\n",
        "        ax.set_yticklabels(name)\n",
        "        im.set_clim(vmin, vmax)\n",
        "    cbar = fig.colorbar(im, ax=axes, location=\"bottom\", aspect=25, pad=0.1)\n",
        "    cbar.ax.set_title(r\"Flux density $\\phi\\ [kg\\cdot s^{-1}\\cdot m^{-2}]$\")\n",
        "    plt.show()\n",
        "    print(\"Success to plot\")\n",
        "    plt.close()\n",
        "    return\n"
      ]
    },
    {
      "cell_type": "code",
      "execution_count": null,
      "id": "e3a3bb7c",
      "metadata": {
        "execution": {
          "iopub.execute_input": "2023-05-21T16:00:58.745644Z",
          "iopub.status.busy": "2023-05-21T16:00:58.745383Z",
          "iopub.status.idle": "2023-05-21T16:01:03.063652Z",
          "shell.execute_reply": "2023-05-21T16:01:03.061938Z"
        },
        "papermill": {
          "duration": 4.329699,
          "end_time": "2023-05-21T16:01:03.065885",
          "exception": false,
          "start_time": "2023-05-21T16:00:58.736186",
          "status": "completed"
        },
        "tags": [],
        "id": "e3a3bb7c"
      },
      "outputs": [],
      "source": [
        "# inspect data structures\n",
        "\n",
        "# check ``1D images''\n",
        "train_10 = [ve_train[10], vebar_train[10], vu_train[10], vubar_train[10]]\n",
        "test_10 = [ve_test[10], vebar_test[10], vu_test[10], vubar_test[10]]\n",
        "train_average = [\n",
        "    np.average(ve_train, axis=0),\n",
        "    np.average(vebar_train, axis=0),\n",
        "    np.average(vu_train, axis=0),\n",
        "    np.average(vubar_train, axis=0),\n",
        "]\n",
        "test_average = [\n",
        "    np.average(ve_test, axis=0),\n",
        "    np.average(vebar_test, axis=0),\n",
        "    np.average(vu_test, axis=0),\n",
        "    np.average(vubar_test, axis=0),\n",
        "]\n",
        "data_format = [train_10, test_10]\n",
        "data_sum_format = [train_average, test_average]\n",
        "four_plot(data_format)\n",
        "four_plot(data_sum_format)\n",
        "\n",
        "# check ``2D images''\n",
        "for i in [9, 99, 999]:\n",
        "    data_format = [X_train[i, 0:60, :], X_test[i, 0:60, :]]\n",
        "    four_2d_plot(data_format)\n"
      ]
    },
    {
      "cell_type": "code",
      "execution_count": null,
      "id": "f96231e3",
      "metadata": {
        "execution": {
          "iopub.execute_input": "2023-05-21T16:01:03.089049Z",
          "iopub.status.busy": "2023-05-21T16:01:03.088724Z",
          "iopub.status.idle": "2023-05-21T16:01:03.951629Z",
          "shell.execute_reply": "2023-05-21T16:01:03.950705Z"
        },
        "id": "f96231e3",
        "papermill": {
          "duration": 0.877166,
          "end_time": "2023-05-21T16:01:03.953686",
          "exception": false,
          "start_time": "2023-05-21T16:01:03.076520",
          "status": "completed"
        },
        "tags": []
      },
      "outputs": [],
      "source": [
        "# check theta and delta relations\n",
        "\n",
        "fig, axes = plt.subplots(1, 2, figsize=(15, 7), dpi=100, constrained_layout=True)\n",
        "for i, name in enumerate([r\"$\\Theta_{13}$ [rad]\", r\"$\\delta_{cp}$ [rad]\"]):\n",
        "    print(\n",
        "        f\"\"\"The max of {name} is {np.max(Y_train[:, i])};\n",
        "The min of {name} is {np.min(Y_train[:, i])};\n",
        "The avg of {name} is {np.average(Y_train[:, i])}.\n",
        "\"\"\"\n",
        "    )\n",
        "    ax = axes[i]\n",
        "    n = 100\n",
        "    ax.bar(np.arange(n), Y_train[:n, i], width=0.1)\n",
        "    ax.set_title(f\"First 100 features of {name}\")\n",
        "    ax.set_xlabel(\"order of features\")\n",
        "    ax.set_ylabel(\"Values [unit]\")\n",
        "plt.show()\n",
        "plt.close()\n"
      ]
    },
    {
      "cell_type": "code",
      "source": [
        "train_normal = X_train[ldm_train > 0]\n",
        "train_invert = X_train[ldm_train < 0]\n",
        "theta23_normal = theta23_train[ldm_train > 0]\n",
        "theta23_invert = theta23_train[ldm_train < 0]\n",
        "delta_normal = delta_train[ldm_train > 0]\n",
        "delta_invert = delta_train[ldm_train < 0]\n",
        "\n",
        "def norm_alg(input_data):\n",
        "    data_max = np.max(input_data,axis = 0)\n",
        "    offset = np.min(input_data,axis = 0)\n",
        "    scale = data_max - offset\n",
        "    input_data  = (input_data-offset)/scale\n",
        "    return input_data\n",
        "#normalize labels to [0,1]\n",
        "ldm_train_norm = norm_alg(ldm_train)\n",
        "theta23_NH_norm = norm_alg(theta23_normal)\n",
        "theta23_IH_norm = norm_alg(theta23_invert)\n",
        "delta_NH_norm = norm_alg(delta_normal)\n",
        "delta_IH_norm = norm_alg(delta_invert)\n",
        "#normalize training data to [0,1]\n",
        "v_max = np.max(X_train)\n",
        "v_min = np.min(X_train)\n",
        "train_NH_norm = (train_normal - v_min)/(v_max- v_min)\n",
        "train_IH_norm = (train_invert- v_min)/(v_max- v_min)\n",
        "labeling = np.where(ldm_train > 0, 1, 0)"
      ],
      "metadata": {
        "id": "2I-bprIGzgQl"
      },
      "id": "2I-bprIGzgQl",
      "execution_count": null,
      "outputs": []
    },
    {
      "cell_type": "code",
      "source": [
        "from sklearn.linear_model import SGDClassifier\n",
        "from sklearn import metrics\n",
        "\n",
        "ldm_class = SGDClassifier(max_iter=1000, tol=1e-3)\n",
        "ldm_class.fit(X_train[:,:,0],labeling)\n",
        "train_predict = ldm_class.predict(X_train[:,:,0])\n",
        "fpr, tpr, thresholds = metrics.roc_curve(labeling, train_predict, pos_label=1)\n",
        "plt.figure(figsize = (6,6))\n",
        "plt.plot(fpr,tpr, label = 'SDG model')\n",
        "plt.plot([0,1],[0,1],label = 'Random level',ls = 'dashed',c = 'Grey')\n",
        "plt.xlabel('False positive rate')\n",
        "plt.ylabel('True positive rate')\n",
        "plt.title(\"Reciever operating characteristic, AUC = {:.2f}\".format(metrics.auc(fpr,tpr)))\n",
        "plt.legend()\n",
        "plt.tight_layout()\n",
        "plt.show()"
      ],
      "metadata": {
        "id": "-XgwIVQ3zi9v"
      },
      "id": "-XgwIVQ3zi9v",
      "execution_count": null,
      "outputs": []
    },
    {
      "cell_type": "markdown",
      "id": "de6f298a",
      "metadata": {
        "papermill": {
          "duration": 0.010456,
          "end_time": "2023-05-21T16:01:03.975704",
          "exception": false,
          "start_time": "2023-05-21T16:01:03.965248",
          "status": "completed"
        },
        "tags": [],
        "id": "de6f298a"
      },
      "source": [
        "### model\n"
      ]
    },
    {
      "cell_type": "code",
      "execution_count": null,
      "id": "af8e4526",
      "metadata": {
        "execution": {
          "iopub.execute_input": "2023-05-21T16:01:03.998930Z",
          "iopub.status.busy": "2023-05-21T16:01:03.998067Z",
          "iopub.status.idle": "2023-05-21T16:01:05.480651Z",
          "shell.execute_reply": "2023-05-21T16:01:05.479508Z"
        },
        "papermill": {
          "duration": 1.496488,
          "end_time": "2023-05-21T16:01:05.482769",
          "exception": false,
          "start_time": "2023-05-21T16:01:03.986281",
          "status": "completed"
        },
        "tags": [],
        "id": "af8e4526"
      },
      "outputs": [],
      "source": [
        "# create validation data\n",
        "from sklearn.model_selection import train_test_split\n",
        "from sklearn import preprocessing\n",
        "\n",
        "# normalize labels\n",
        "# Y_train_norm = preprocessing.normalize(Y_train[:, 0:2], axis=0)\n",
        "\n",
        "# split the training dataset into training and validation, with test_size = 0.2\n",
        "tf.random.set_seed(2023)\n",
        "x_train, x_val, y_train, y_val = train_test_split(\n",
        "    X_train, Y_train[:, 0:2], test_size=0.2, shuffle=True\n",
        ")\n",
        "x_test = X_test\n",
        "\n",
        "print(\n",
        "    f\"\"\"\n",
        "The shape of x_train     : {x_train.shape}\n",
        "The shape of y_train     : {y_train.shape}\n",
        "The shape of x_validation: {x_val.shape}\n",
        "The shape of y_validation: {y_val.shape}\n",
        "The shape of x_test      : {x_test.shape}\n",
        "\"\"\"\n",
        ")"
      ]
    },
    {
      "cell_type": "code",
      "execution_count": null,
      "id": "ca5375c6",
      "metadata": {
        "execution": {
          "iopub.execute_input": "2023-05-21T16:01:05.507403Z",
          "iopub.status.busy": "2023-05-21T16:01:05.505949Z",
          "iopub.status.idle": "2023-05-21T16:01:05.514372Z",
          "shell.execute_reply": "2023-05-21T16:01:05.513542Z"
        },
        "papermill": {
          "duration": 0.022389,
          "end_time": "2023-05-21T16:01:05.516372",
          "exception": false,
          "start_time": "2023-05-21T16:01:05.493983",
          "status": "completed"
        },
        "tags": [],
        "id": "ca5375c6"
      },
      "outputs": [],
      "source": [
        "# Define sample_z function\n",
        "\n",
        "from tensorflow.keras import backend as K\n",
        "from tensorflow.keras.layers import Layer\n",
        "\n",
        "def sample_z(inputs: list):\n",
        "    z_mean, z_log_var = inputs\n",
        "    batch = tf.shape(z_mean)[0]\n",
        "    dim = tf.shape(z_mean)[1]\n",
        "    epsilon = K.random_normal(shape=(batch, dim))\n",
        "\n",
        "    return z_mean + tf.exp(0.5 * z_log_var) * epsilon\n"
      ]
    },
    {
      "cell_type": "code",
      "execution_count": null,
      "id": "4693b686",
      "metadata": {
        "execution": {
          "iopub.execute_input": "2023-05-21T16:01:05.539520Z",
          "iopub.status.busy": "2023-05-21T16:01:05.539200Z",
          "iopub.status.idle": "2023-05-21T16:01:05.546565Z",
          "shell.execute_reply": "2023-05-21T16:01:05.545710Z"
        },
        "papermill": {
          "duration": 0.021552,
          "end_time": "2023-05-21T16:01:05.548674",
          "exception": false,
          "start_time": "2023-05-21T16:01:05.527122",
          "status": "completed"
        },
        "tags": [],
        "id": "4693b686"
      },
      "outputs": [],
      "source": [
        "class KLDivergenceLayer(Layer):\n",
        "\n",
        "    \"\"\"Identity transform layer that adds KL divergence\n",
        "    to the final model loss.\n",
        "    \"\"\"\n",
        "\n",
        "    def __init__(self, *args, **kwargs):\n",
        "        self.is_placeholder = True\n",
        "        super(KLDivergenceLayer, self).__init__(*args, **kwargs)\n",
        "\n",
        "    def call(self, inputs):\n",
        "        mu, log_var = inputs\n",
        "        kl_batch = -0.5 * K.sum(1 + log_var - K.square(mu) - K.exp(log_var), axis=-1)\n",
        "        self.add_loss(K.mean(kl_batch), inputs=inputs)\n",
        "\n",
        "        return inputs"
      ]
    },
    {
      "cell_type": "code",
      "execution_count": null,
      "id": "482a9c04",
      "metadata": {
        "execution": {
          "iopub.execute_input": "2023-05-21T16:01:05.572852Z",
          "iopub.status.busy": "2023-05-21T16:01:05.572407Z",
          "iopub.status.idle": "2023-05-21T16:01:05.595179Z",
          "shell.execute_reply": "2023-05-21T16:01:05.594358Z"
        },
        "papermill": {
          "duration": 0.037857,
          "end_time": "2023-05-21T16:01:05.597235",
          "exception": false,
          "start_time": "2023-05-21T16:01:05.559378",
          "status": "completed"
        },
        "tags": [],
        "id": "482a9c04"
      },
      "outputs": [],
      "source": [
        "from tensorflow.keras import Model, Input\n",
        "from tensorflow.keras.layers import (\n",
        "    Reshape,\n",
        "    Conv2D,\n",
        "    AveragePooling2D,\n",
        "    Conv2DTranspose,\n",
        "    LeakyReLU,\n",
        "    Flatten,\n",
        "    Dense,\n",
        "    Lambda,\n",
        "    Dropout,\n",
        "    BatchNormalization,\n",
        ")\n",
        "from tensorflow.keras import regularizers\n",
        "import tensorflow.keras.backend as K\n",
        "\n",
        "\n",
        "def conv2d(inputs, filters, kernel_size):\n",
        "    x = Conv2D(filters, kernel_size=kernel_size, strides=1, padding=\"same\")(inputs)\n",
        "    x = BatchNormalization()(x)\n",
        "    x = LeakyReLU(alpha=0.2)(x)\n",
        "    x = AveragePooling2D(pool_size=(2, 2))(x)\n",
        "    x = Conv2D(filters, kernel_size=kernel_size, strides=1, padding=\"same\")(inputs)\n",
        "    x = BatchNormalization()(x)\n",
        "    x = LeakyReLU(alpha=0.2)(x)\n",
        "    x = AveragePooling2D(pool_size=(2, 2))(x)\n",
        "    x = Conv2D(filters, kernel_size=kernel_size, strides=1, padding=\"same\")(inputs)\n",
        "    x = BatchNormalization()(x)\n",
        "    x = LeakyReLU(alpha=0.2)(x)\n",
        "    x = AveragePooling2D(pool_size=(2, 2))(x)\n",
        "    return x\n",
        "\n",
        "\n",
        "def deconv2d(inputs, filters, kernel_size):\n",
        "    x = Conv2DTranspose(filters, kernel_size=kernel_size, strides=1, padding=\"same\")(inputs)\n",
        "    x = BatchNormalization()(x)\n",
        "    x = LeakyReLU(alpha=0.2)(x)\n",
        "    x = Conv2DTranspose(filters, kernel_size=kernel_size, strides=1, padding=\"same\")(x)\n",
        "    x = BatchNormalization()(x)\n",
        "    x = LeakyReLU(alpha=0.2)(x)\n",
        "    x = Conv2DTranspose(1, kernel_size=kernel_size, strides=2, padding=\"same\")(x)\n",
        "    x = LeakyReLU(alpha=0.2)(x)\n",
        "    x = Flatten()(x)\n",
        "    return x\n",
        "\n",
        "\n",
        "def create_model(input_dim, latent_dim):\n",
        "    # Encoder\n",
        "    encoder_inputs = Input(shape=input_dim)\n",
        "    x = conv2d(encoder_inputs, filters=64, kernel_size=4)\n",
        "    x = conv2d(x, filters=32, kernel_size=4)\n",
        "    x = Flatten()(x)\n",
        "    x = Dense(128)(x)\n",
        "    x = LeakyReLU(alpha=0.2)(x)\n",
        "    x = Dense(latent_dim)(x)\n",
        "    z_mu = Dense(latent_dim)(x)\n",
        "    z_log_var = Dense(latent_dim)(x)\n",
        "    z_mu, z_log_var = KLDivergenceLayer()([z_mu, z_log_var])\n",
        "    z = Lambda(sample_z, output_shape=(latent_dim,))([z_mu, z_log_var])\n",
        "    encoder = Model(encoder_inputs, [z_mu, z_log_var, z], name=\"encoder\")\n",
        "    encoder.summary()\n",
        "\n",
        "    # Decoder\n",
        "    latent_inputs = Input(shape=(latent_dim,))\n",
        "    x = Dense(128)(latent_inputs)\n",
        "    x = LeakyReLU(alpha=0.2)(x)\n",
        "    x = Dense(256)(x)\n",
        "    x = LeakyReLU(alpha=0.2)(x)\n",
        "    x = Reshape((4, 4, 16))(x)\n",
        "    x = deconv2d(x, filters=64, kernel_size=4)\n",
        "    x = Reshape((8, 8, 1))(x)\n",
        "    x = deconv2d(x, filters=32, kernel_size=4)\n",
        "    x = Dense(np.prod(input_dim))(x)\n",
        "    x = LeakyReLU(alpha=0.2)(x)\n",
        "    decoder = Model(latent_inputs, x, name=\"decoder\")\n",
        "    decoder.summary()\n",
        "\n",
        "    # DNN (conti --> decoder)\n",
        "    inputs = Input(shape=x.shape)\n",
        "    x = Dense(256)(inputs)\n",
        "    x = LeakyReLU(alpha=0.2)(x)\n",
        "    x = Dense(128)(x)\n",
        "    x = LeakyReLU(alpha=0.2)(x)\n",
        "    x = Dense(64)(x)\n",
        "    x = LeakyReLU(alpha=0.2)(x)\n",
        "    x = Dense(1, activation=\"linear\")(x)\n",
        "    dnn = Model(inputs, x, name=\"dnn\")\n",
        "    dnn.summary()\n",
        "\n",
        "    # CVAE + DNN\n",
        "    autoencoder_input = Input(shape=input_dim)\n",
        "    encoded = encoder(autoencoder_input)\n",
        "    decoded = decoder(encoded[2])\n",
        "    fin_dnn = dnn(decoded)\n",
        "    cvae = Model(inputs=autoencoder_input, outputs=fin_dnn)\n",
        "    return cvae\n"
      ]
    },
    {
      "cell_type": "code",
      "execution_count": null,
      "id": "32ae395c",
      "metadata": {
        "execution": {
          "iopub.execute_input": "2023-05-21T16:01:05.620262Z",
          "iopub.status.busy": "2023-05-21T16:01:05.619989Z",
          "iopub.status.idle": "2023-05-21T16:01:07.115667Z",
          "shell.execute_reply": "2023-05-21T16:01:07.114771Z"
        },
        "papermill": {
          "duration": 1.509949,
          "end_time": "2023-05-21T16:01:07.118256",
          "exception": false,
          "start_time": "2023-05-21T16:01:05.608307",
          "status": "completed"
        },
        "tags": [],
        "id": "32ae395c"
      },
      "outputs": [],
      "source": [
        "from tensorflow.keras.optimizers import Adam\n",
        "\n",
        "# Declare the model\n",
        "cvae = create_model(\n",
        "    input_dim=(x_train.shape[1], x_train.shape[2], 1), latent_dim=2\n",
        ")\n",
        "\n",
        "# Compile the model\n",
        "cvae.compile(optimizer=Adam(1e-3), loss=\"mse\")"
      ]
    },
    {
      "cell_type": "code",
      "execution_count": null,
      "id": "7df50c06",
      "metadata": {
        "execution": {
          "iopub.execute_input": "2023-05-21T16:01:07.162684Z",
          "iopub.status.busy": "2023-05-21T16:01:07.162338Z",
          "iopub.status.idle": "2023-05-21T20:21:10.334810Z",
          "shell.execute_reply": "2023-05-21T20:21:10.333950Z"
        },
        "papermill": {
          "duration": 15603.247524,
          "end_time": "2023-05-21T20:21:10.387614",
          "exception": false,
          "start_time": "2023-05-21T16:01:07.140090",
          "status": "completed"
        },
        "tags": [],
        "colab": {
          "base_uri": "https://localhost:8080/"
        },
        "id": "7df50c06",
        "outputId": "8805c52d-de42-4ee1-b156-db533b46e119"
      },
      "outputs": [
        {
          "output_type": "stream",
          "name": "stdout",
          "text": [
            "Epoch 1/256\n",
            "6250/6250 - 81s - loss: 6.1717 - val_loss: 14.5239 - 81s/epoch - 13ms/step\n",
            "Epoch 2/256\n",
            "6250/6250 - 65s - loss: 2.7204 - val_loss: 3.5116 - 65s/epoch - 10ms/step\n",
            "Epoch 3/256\n",
            "6250/6250 - 59s - loss: 2.5857 - val_loss: 2.5084 - 59s/epoch - 9ms/step\n",
            "Epoch 4/256\n",
            "6250/6250 - 60s - loss: 2.4923 - val_loss: 2.5599 - 60s/epoch - 10ms/step\n",
            "Epoch 5/256\n",
            "6250/6250 - 60s - loss: 2.4436 - val_loss: 2.1934 - 60s/epoch - 10ms/step\n",
            "Epoch 6/256\n",
            "6250/6250 - 61s - loss: 2.3963 - val_loss: 2.0511 - 61s/epoch - 10ms/step\n",
            "Epoch 7/256\n",
            "6250/6250 - 65s - loss: 2.3582 - val_loss: 2.3074 - 65s/epoch - 10ms/step\n",
            "Epoch 8/256\n",
            "6250/6250 - 59s - loss: 2.2946 - val_loss: 2.0903 - 59s/epoch - 9ms/step\n",
            "Epoch 9/256\n",
            "6250/6250 - 60s - loss: 2.1807 - val_loss: 2.1157 - 60s/epoch - 10ms/step\n",
            "Epoch 10/256\n",
            "6250/6250 - 60s - loss: 2.1204 - val_loss: 2.1237 - 60s/epoch - 10ms/step\n",
            "Epoch 11/256\n",
            "6250/6250 - 61s - loss: 2.0981 - val_loss: 2.0665 - 61s/epoch - 10ms/step\n",
            "Epoch 12/256\n",
            "6250/6250 - 60s - loss: 2.0906 - val_loss: 2.1166 - 60s/epoch - 10ms/step\n",
            "Epoch 13/256\n",
            "6250/6250 - 65s - loss: 2.0905 - val_loss: 2.0356 - 65s/epoch - 10ms/step\n",
            "Epoch 14/256\n",
            "6250/6250 - 60s - loss: 2.0816 - val_loss: 2.0756 - 60s/epoch - 10ms/step\n",
            "Epoch 15/256\n",
            "6250/6250 - 66s - loss: 2.0734 - val_loss: 2.1506 - 66s/epoch - 11ms/step\n",
            "Epoch 16/256\n",
            "6250/6250 - 61s - loss: 2.0769 - val_loss: 2.2235 - 61s/epoch - 10ms/step\n",
            "Epoch 17/256\n",
            "6250/6250 - 61s - loss: 2.0766 - val_loss: 2.0781 - 61s/epoch - 10ms/step\n",
            "Epoch 18/256\n",
            "6250/6250 - 66s - loss: 2.0721 - val_loss: 2.1519 - 66s/epoch - 11ms/step\n",
            "Epoch 19/256\n",
            "6250/6250 - 66s - loss: 2.0629 - val_loss: 2.1187 - 66s/epoch - 10ms/step\n",
            "Epoch 20/256\n",
            "6250/6250 - 66s - loss: 2.0679 - val_loss: 2.0594 - 66s/epoch - 11ms/step\n",
            "Epoch 21/256\n",
            "6250/6250 - 61s - loss: 2.0608 - val_loss: 2.1028 - 61s/epoch - 10ms/step\n",
            "Epoch 22/256\n",
            "6250/6250 - 60s - loss: 2.0642 - val_loss: 2.7711 - 60s/epoch - 10ms/step\n",
            "Epoch 23/256\n",
            "6250/6250 - 61s - loss: 2.0604 - val_loss: 2.0714 - 61s/epoch - 10ms/step\n",
            "Epoch 24/256\n",
            "6250/6250 - 61s - loss: 2.0615 - val_loss: 2.5583 - 61s/epoch - 10ms/step\n",
            "Epoch 25/256\n",
            "6250/6250 - 61s - loss: 2.0598 - val_loss: 2.1213 - 61s/epoch - 10ms/step\n",
            "Epoch 26/256\n",
            "6250/6250 - 60s - loss: 2.0558 - val_loss: 2.0675 - 60s/epoch - 10ms/step\n",
            "Epoch 27/256\n",
            "6250/6250 - 60s - loss: 2.0559 - val_loss: 2.1399 - 60s/epoch - 10ms/step\n",
            "Epoch 28/256\n",
            "6250/6250 - 60s - loss: 2.0548 - val_loss: 4.0910 - 60s/epoch - 10ms/step\n",
            "Epoch 29/256\n",
            "6250/6250 - 60s - loss: 2.0562 - val_loss: 2.1469 - 60s/epoch - 10ms/step\n",
            "Epoch 30/256\n",
            "6250/6250 - 59s - loss: 2.0533 - val_loss: 2.0295 - 59s/epoch - 9ms/step\n",
            "Epoch 31/256\n",
            "6250/6250 - 59s - loss: 2.0499 - val_loss: 2.1018 - 59s/epoch - 9ms/step\n",
            "Epoch 32/256\n",
            "6250/6250 - 59s - loss: 2.0537 - val_loss: 2.0280 - 59s/epoch - 9ms/step\n",
            "Epoch 33/256\n",
            "6250/6250 - 59s - loss: 2.0492 - val_loss: 2.2441 - 59s/epoch - 9ms/step\n",
            "Epoch 34/256\n",
            "6250/6250 - 65s - loss: 2.0537 - val_loss: 2.0839 - 65s/epoch - 10ms/step\n",
            "Epoch 35/256\n",
            "6250/6250 - 60s - loss: 2.0487 - val_loss: 2.0282 - 60s/epoch - 10ms/step\n",
            "Epoch 36/256\n",
            "6250/6250 - 60s - loss: 2.0496 - val_loss: 2.0626 - 60s/epoch - 10ms/step\n",
            "Epoch 37/256\n",
            "6250/6250 - 59s - loss: 2.0474 - val_loss: 2.0298 - 59s/epoch - 10ms/step\n",
            "Epoch 38/256\n",
            "6250/6250 - 59s - loss: 2.0464 - val_loss: 2.1311 - 59s/epoch - 9ms/step\n",
            "Epoch 39/256\n",
            "6250/6250 - 62s - loss: 2.0456 - val_loss: 2.0498 - 62s/epoch - 10ms/step\n",
            "Epoch 40/256\n",
            "6250/6250 - 59s - loss: 2.0462 - val_loss: 2.2184 - 59s/epoch - 9ms/step\n",
            "Epoch 41/256\n",
            "6250/6250 - 59s - loss: 2.0437 - val_loss: 2.5537 - 59s/epoch - 9ms/step\n",
            "Epoch 42/256\n",
            "6250/6250 - 60s - loss: 2.0464 - val_loss: 2.0435 - 60s/epoch - 10ms/step\n",
            "Epoch 43/256\n",
            "6250/6250 - 60s - loss: 2.0436 - val_loss: 2.2038 - 60s/epoch - 10ms/step\n",
            "Epoch 44/256\n",
            "6250/6250 - 61s - loss: 2.0435 - val_loss: 2.0334 - 61s/epoch - 10ms/step\n",
            "Epoch 45/256\n",
            "6250/6250 - 60s - loss: 2.0413 - val_loss: 2.0244 - 60s/epoch - 10ms/step\n",
            "Epoch 46/256\n",
            "6250/6250 - 62s - loss: 2.0441 - val_loss: 2.1768 - 62s/epoch - 10ms/step\n",
            "Epoch 47/256\n",
            "6250/6250 - 61s - loss: 2.0418 - val_loss: 2.1495 - 61s/epoch - 10ms/step\n",
            "Epoch 48/256\n",
            "6250/6250 - 60s - loss: 2.0440 - val_loss: 2.1379 - 60s/epoch - 10ms/step\n",
            "Epoch 49/256\n",
            "6250/6250 - 61s - loss: 2.0423 - val_loss: 2.0830 - 61s/epoch - 10ms/step\n",
            "Epoch 50/256\n",
            "6250/6250 - 59s - loss: 2.0422 - val_loss: 2.0273 - 59s/epoch - 9ms/step\n",
            "Epoch 51/256\n",
            "6250/6250 - 60s - loss: 2.0417 - val_loss: 2.0704 - 60s/epoch - 10ms/step\n",
            "Epoch 52/256\n",
            "6250/6250 - 59s - loss: 2.0414 - val_loss: 2.0336 - 59s/epoch - 9ms/step\n",
            "Epoch 53/256\n",
            "6250/6250 - 60s - loss: 2.0411 - val_loss: 2.0356 - 60s/epoch - 10ms/step\n",
            "Epoch 54/256\n",
            "6250/6250 - 60s - loss: 2.0394 - val_loss: 2.0331 - 60s/epoch - 10ms/step\n",
            "Epoch 55/256\n",
            "6250/6250 - 61s - loss: 2.0406 - val_loss: 2.0654 - 61s/epoch - 10ms/step\n",
            "Epoch 56/256\n",
            "6250/6250 - 74s - loss: 2.0376 - val_loss: 2.0272 - 74s/epoch - 12ms/step\n",
            "Epoch 57/256\n",
            "6250/6250 - 61s - loss: 2.0371 - val_loss: 2.0258 - 61s/epoch - 10ms/step\n",
            "Epoch 58/256\n",
            "6250/6250 - 61s - loss: 2.0377 - val_loss: 2.0470 - 61s/epoch - 10ms/step\n",
            "Epoch 59/256\n"
          ]
        }
      ],
      "source": [
        "from tensorflow.keras.callbacks import EarlyStopping\n",
        "\n",
        "# train\n",
        "early_stopping = EarlyStopping(\n",
        "    monitor=\"val_loss\",\n",
        "    min_delta=0.005,\n",
        "    patience=30,\n",
        "    mode=\"auto\",\n",
        "    baseline=None,\n",
        "    restore_best_weights=False,\n",
        ")\n",
        "\n",
        "cvae.fit(\n",
        "    x=x_train,\n",
        "    y=y_train[:, 0],\n",
        "    validation_data=(x_val, y_val[:, 0]),\n",
        "    epochs=256,\n",
        "    batch_size=128,\n",
        "    callbacks=[early_stopping],\n",
        "    shuffle=True,\n",
        "    verbose=2,\n",
        ")"
      ]
    },
    {
      "cell_type": "code",
      "execution_count": null,
      "id": "eba0252a",
      "metadata": {
        "execution": {
          "iopub.execute_input": "2023-05-21T20:21:10.488396Z",
          "iopub.status.busy": "2023-05-21T20:21:10.488044Z",
          "iopub.status.idle": "2023-05-21T20:21:35.056584Z",
          "shell.execute_reply": "2023-05-21T20:21:35.055656Z"
        },
        "papermill": {
          "duration": 24.61527,
          "end_time": "2023-05-21T20:21:35.058873",
          "exception": false,
          "start_time": "2023-05-21T20:21:10.443603",
          "status": "completed"
        },
        "tags": [],
        "id": "eba0252a"
      },
      "outputs": [],
      "source": [
        "fig = plt.figure(figsize=(8, 5), dpi=100)\n",
        "history = cvae.history.history\n",
        "plt.plot(history[\"loss\"], lw=2.5, label=\"Train\", alpha=0.8)\n",
        "plt.plot(history[\"val_loss\"], lw=2.5, label=\"Validation\", alpha=0.8)\n",
        "plt.title(\"Epoch vs MSE loss\")\n",
        "plt.xlabel(\"epoch\")\n",
        "plt.ylabel(\"Loss (MSE)\")\n",
        "plt.legend(loc=\"best\")\n",
        "plt.show()"
      ]
    },
    {
      "cell_type": "code",
      "execution_count": null,
      "id": "8b0cb380",
      "metadata": {
        "execution": {
          "iopub.execute_input": "2023-05-21T20:21:35.148160Z",
          "iopub.status.busy": "2023-05-21T20:21:35.147773Z",
          "iopub.status.idle": "2023-05-21T20:23:18.055801Z",
          "shell.execute_reply": "2023-05-21T20:23:18.054804Z"
        },
        "papermill": {
          "duration": 102.955946,
          "end_time": "2023-05-21T20:23:18.059165",
          "exception": false,
          "start_time": "2023-05-21T20:21:35.103219",
          "status": "completed"
        },
        "tags": [],
        "id": "8b0cb380"
      },
      "outputs": [],
      "source": [
        "# predict\n",
        "\n",
        "x_train_pred = cvae.predict(x_train)\n",
        "x_test_pred  = cvae.predict(x_test)"
      ]
    },
    {
      "cell_type": "code",
      "execution_count": null,
      "id": "f32fcd88",
      "metadata": {
        "execution": {
          "iopub.execute_input": "2023-05-21T20:23:18.354937Z",
          "iopub.status.busy": "2023-05-21T20:23:18.354559Z",
          "iopub.status.idle": "2023-05-21T20:23:21.472360Z",
          "shell.execute_reply": "2023-05-21T20:23:21.471381Z"
        },
        "papermill": {
          "duration": 3.269099,
          "end_time": "2023-05-21T20:23:21.475038",
          "exception": false,
          "start_time": "2023-05-21T20:23:18.205939",
          "status": "completed"
        },
        "tags": [],
        "id": "f32fcd88"
      },
      "outputs": [],
      "source": [
        "# statistical parameters\n",
        "n = len(x_train_pred[:,0])\n",
        "dof = n - 2\n",
        "t = scipy.stats.t.ppf(0.975, dof)\n",
        "\n",
        "# linear fitting line\n",
        "slope, intercept, r, p, se = scipy.stats.linregress(x_train_pred[:,0], y_train[:,0])\n",
        "plt_min = np.min([np.min(x_train_pred), np.min(y_train[:,0])])\n",
        "plt_max = np.max([np.max(x_train_pred), np.max(y_train[:,0])])\n",
        "x_line = np.linspace(plt_min, plt_max, 100)\n",
        "y_line = np.polyval([slope, intercept], x_line)\n",
        "\n",
        "# acceleration kernel (to calculate mse, confident level, and prediction level)\n",
        "@njit(fastmath=True)\n",
        "def mse_kernel(pred, true, t_value=t, n=n, dof=dof, x_line=x_line, y_line=y_line):\n",
        "    if true.shape != pred.shape:\n",
        "        raise ValueError(\"True/Pred data should be the same shape!\") \n",
        "    mse = np.empty(len(true))\n",
        "    for ind, (t, p) in enumerate(zip(true, pred)):\n",
        "        mse[ind] = np.average(np.square(t - p))\n",
        "    pred_mean = np.average(x_train_pred[:,0])\n",
        "    sum_se = np.sum(np.square(true - pred))\n",
        "    std_error = np.sqrt(1/dof * sum_se)\n",
        "    # confidence interval\n",
        "    ci = t_value * std_error * np.sqrt(1/n + np.square(x_line - pred_mean)/np.sum(np.square(x_train_pred[:,0] - pred_mean)))\n",
        "    # predicting interval\n",
        "    pi = t_value * std_error * np.sqrt(1 + 1/n + np.square(x_line - pred_mean)/np.sum(np.square(x_train_pred[:,0] - pred_mean)))\n",
        "    return mse, ci, pi\n",
        "\n",
        "mse, ci, pi = mse_kernel(x_train_pred[:,0], y_train[:,0])"
      ]
    },
    {
      "cell_type": "code",
      "execution_count": null,
      "id": "d05d2429",
      "metadata": {
        "execution": {
          "iopub.execute_input": "2023-05-21T20:23:21.771446Z",
          "iopub.status.busy": "2023-05-21T20:23:21.770802Z",
          "iopub.status.idle": "2023-05-21T20:23:37.409355Z",
          "shell.execute_reply": "2023-05-21T20:23:37.408430Z"
        },
        "papermill": {
          "duration": 15.789443,
          "end_time": "2023-05-21T20:23:37.411595",
          "exception": false,
          "start_time": "2023-05-21T20:23:21.622152",
          "status": "completed"
        },
        "tags": [],
        "id": "d05d2429"
      },
      "outputs": [],
      "source": [
        "fig = plt.figure(figsize=(7,7), dpi=80)\n",
        "plt.scatter(x_train_pred, y_train[:,0], s=3, alpha=.05, label=\"data\")\n",
        "plt.plot(x_line, y_line, '--', lw=2, c='red')\n",
        "plt.plot([plt_min, plt_max], [plt_min, plt_max], '-', lw=1, c='orange', label=\"theo line\")\n",
        "plt.plot(x_line, y_line + pi, '--', lw=1, c='tab:red', label='95% prediction interval')\n",
        "plt.plot(x_line, y_line - pi, '--', lw=1, c='tab:red')\n",
        "# plt.plot(x_line, y_line + ci, '--', c='tab:grey', label='95% confidence interval')\n",
        "# plt.plot(x_line, y_line - ci, '--', c='tab:grey')\n",
        "plt.xlim(plt_min, plt_max)\n",
        "plt.ylim(plt_min, plt_max)\n",
        "plt.legend(loc='best')\n",
        "plt.xlabel(\"Pred\")\n",
        "plt.ylabel(\"True\")\n",
        "plt.show()\n",
        "\n",
        "plt.title(r\"$\\Theta_{13}$\")\n",
        "plt.xlabel(\"Train loss (MSE)\")\n",
        "plt.hist(mse, bins=50, density=False, alpha=.8, color='tab:blue', label='bkg')\n",
        "plt.legend(loc='best')\n",
        "plt.show()"
      ]
    },
    {
      "cell_type": "markdown",
      "id": "89deab06",
      "metadata": {
        "papermill": {
          "duration": 0.14847,
          "end_time": "2023-05-21T20:23:37.708533",
          "exception": false,
          "start_time": "2023-05-21T20:23:37.560063",
          "status": "completed"
        },
        "tags": [],
        "id": "89deab06"
      },
      "source": [
        "### dump the predicted data\n"
      ]
    },
    {
      "cell_type": "code",
      "execution_count": null,
      "id": "889f75b1",
      "metadata": {
        "execution": {
          "iopub.execute_input": "2023-05-21T20:23:38.007160Z",
          "iopub.status.busy": "2023-05-21T20:23:38.006602Z",
          "iopub.status.idle": "2023-05-21T20:23:38.011048Z",
          "shell.execute_reply": "2023-05-21T20:23:38.010082Z"
        },
        "papermill": {
          "duration": 0.1556,
          "end_time": "2023-05-21T20:23:38.013100",
          "exception": false,
          "start_time": "2023-05-21T20:23:37.857500",
          "status": "completed"
        },
        "tags": [],
        "id": "889f75b1"
      },
      "outputs": [],
      "source": [
        "# # dump the predicted data\n",
        "# \"\"\"\n",
        "# 0 for qcd; 1 for wprime\n",
        "# \"\"\"\n",
        "\n",
        "# pred_label = [0 if i < cut else 1 for i in new_loss_data]\n",
        "# np.savetxt(\"submission.csv\", [('id', 'prediction')] + [(i, j) for i, j in enumerate(pred_label)], delimiter=\",\", fmt='%s')\n"
      ]
    },
    {
      "cell_type": "code",
      "source": [],
      "metadata": {
        "id": "goWMjXCWmB7t"
      },
      "id": "goWMjXCWmB7t",
      "execution_count": null,
      "outputs": []
    }
  ],
  "metadata": {
    "kernelspec": {
      "display_name": "Python 3",
      "language": "python",
      "name": "python3"
    },
    "language_info": {
      "codemirror_mode": {
        "name": "ipython",
        "version": 3
      },
      "file_extension": ".py",
      "mimetype": "text/x-python",
      "name": "python",
      "nbconvert_exporter": "python",
      "pygments_lexer": "ipython3",
      "version": "3.10.10"
    },
    "papermill": {
      "default_parameters": {},
      "duration": 15807.325505,
      "end_time": "2023-05-21T20:23:41.162298",
      "environment_variables": {},
      "exception": null,
      "input_path": "__notebook__.ipynb",
      "output_path": "__notebook__.ipynb",
      "parameters": {},
      "start_time": "2023-05-21T16:00:13.836793",
      "version": "2.4.0"
    },
    "colab": {
      "provenance": [],
      "gpuType": "T4"
    },
    "accelerator": "GPU",
    "gpuClass": "standard"
  },
  "nbformat": 4,
  "nbformat_minor": 5
}